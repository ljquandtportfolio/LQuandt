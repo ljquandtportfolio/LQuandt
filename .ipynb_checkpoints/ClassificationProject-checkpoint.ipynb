{
 "cells": [
  {
   "cell_type": "markdown",
   "id": "a946b13a",
   "metadata": {},
   "source": [
    "# Classification Project"
   ]
  },
  {
   "cell_type": "code",
   "execution_count": 3,
   "id": "67503ba2",
   "metadata": {},
   "outputs": [],
   "source": [
    "import pandas as pd\n",
    "import numpy as np"
   ]
  },
  {
   "cell_type": "code",
   "execution_count": 4,
   "id": "64050b76",
   "metadata": {},
   "outputs": [
    {
     "data": {
      "text/html": [
       "<div>\n",
       "<style scoped>\n",
       "    .dataframe tbody tr th:only-of-type {\n",
       "        vertical-align: middle;\n",
       "    }\n",
       "\n",
       "    .dataframe tbody tr th {\n",
       "        vertical-align: top;\n",
       "    }\n",
       "\n",
       "    .dataframe thead th {\n",
       "        text-align: right;\n",
       "    }\n",
       "</style>\n",
       "<table border=\"1\" class=\"dataframe\">\n",
       "  <thead>\n",
       "    <tr style=\"text-align: right;\">\n",
       "      <th></th>\n",
       "      <th>Loan_ID</th>\n",
       "      <th>Gender</th>\n",
       "      <th>Married</th>\n",
       "      <th>Dependents</th>\n",
       "      <th>Education</th>\n",
       "      <th>Self_Employed</th>\n",
       "      <th>ApplicantIncome</th>\n",
       "      <th>CoapplicantIncome</th>\n",
       "      <th>LoanAmount</th>\n",
       "      <th>Loan_Amount_Term</th>\n",
       "      <th>Credit_History</th>\n",
       "      <th>Property_Area</th>\n",
       "      <th>Loan_Status</th>\n",
       "    </tr>\n",
       "  </thead>\n",
       "  <tbody>\n",
       "    <tr>\n",
       "      <th>0</th>\n",
       "      <td>LP001002</td>\n",
       "      <td>Male</td>\n",
       "      <td>No</td>\n",
       "      <td>0</td>\n",
       "      <td>Graduate</td>\n",
       "      <td>No</td>\n",
       "      <td>5849</td>\n",
       "      <td>0.0</td>\n",
       "      <td>NaN</td>\n",
       "      <td>360.0</td>\n",
       "      <td>1.0</td>\n",
       "      <td>Urban</td>\n",
       "      <td>Y</td>\n",
       "    </tr>\n",
       "    <tr>\n",
       "      <th>1</th>\n",
       "      <td>LP001003</td>\n",
       "      <td>Male</td>\n",
       "      <td>Yes</td>\n",
       "      <td>1</td>\n",
       "      <td>Graduate</td>\n",
       "      <td>No</td>\n",
       "      <td>4583</td>\n",
       "      <td>1508.0</td>\n",
       "      <td>128.0</td>\n",
       "      <td>360.0</td>\n",
       "      <td>1.0</td>\n",
       "      <td>Rural</td>\n",
       "      <td>N</td>\n",
       "    </tr>\n",
       "    <tr>\n",
       "      <th>2</th>\n",
       "      <td>LP001005</td>\n",
       "      <td>Male</td>\n",
       "      <td>Yes</td>\n",
       "      <td>0</td>\n",
       "      <td>Graduate</td>\n",
       "      <td>Yes</td>\n",
       "      <td>3000</td>\n",
       "      <td>0.0</td>\n",
       "      <td>66.0</td>\n",
       "      <td>360.0</td>\n",
       "      <td>1.0</td>\n",
       "      <td>Urban</td>\n",
       "      <td>Y</td>\n",
       "    </tr>\n",
       "    <tr>\n",
       "      <th>3</th>\n",
       "      <td>LP001006</td>\n",
       "      <td>Male</td>\n",
       "      <td>Yes</td>\n",
       "      <td>0</td>\n",
       "      <td>Not Graduate</td>\n",
       "      <td>No</td>\n",
       "      <td>2583</td>\n",
       "      <td>2358.0</td>\n",
       "      <td>120.0</td>\n",
       "      <td>360.0</td>\n",
       "      <td>1.0</td>\n",
       "      <td>Urban</td>\n",
       "      <td>Y</td>\n",
       "    </tr>\n",
       "    <tr>\n",
       "      <th>4</th>\n",
       "      <td>LP001008</td>\n",
       "      <td>Male</td>\n",
       "      <td>No</td>\n",
       "      <td>0</td>\n",
       "      <td>Graduate</td>\n",
       "      <td>No</td>\n",
       "      <td>6000</td>\n",
       "      <td>0.0</td>\n",
       "      <td>141.0</td>\n",
       "      <td>360.0</td>\n",
       "      <td>1.0</td>\n",
       "      <td>Urban</td>\n",
       "      <td>Y</td>\n",
       "    </tr>\n",
       "  </tbody>\n",
       "</table>\n",
       "</div>"
      ],
      "text/plain": [
       "    Loan_ID Gender Married Dependents     Education Self_Employed  \\\n",
       "0  LP001002   Male      No          0      Graduate            No   \n",
       "1  LP001003   Male     Yes          1      Graduate            No   \n",
       "2  LP001005   Male     Yes          0      Graduate           Yes   \n",
       "3  LP001006   Male     Yes          0  Not Graduate            No   \n",
       "4  LP001008   Male      No          0      Graduate            No   \n",
       "\n",
       "   ApplicantIncome  CoapplicantIncome  LoanAmount  Loan_Amount_Term  \\\n",
       "0             5849                0.0         NaN             360.0   \n",
       "1             4583             1508.0       128.0             360.0   \n",
       "2             3000                0.0        66.0             360.0   \n",
       "3             2583             2358.0       120.0             360.0   \n",
       "4             6000                0.0       141.0             360.0   \n",
       "\n",
       "   Credit_History Property_Area Loan_Status  \n",
       "0             1.0         Urban           Y  \n",
       "1             1.0         Rural           N  \n",
       "2             1.0         Urban           Y  \n",
       "3             1.0         Urban           Y  \n",
       "4             1.0         Urban           Y  "
      ]
     },
     "execution_count": 4,
     "metadata": {},
     "output_type": "execute_result"
    }
   ],
   "source": [
    "#import data and ensure it loaded properly\n",
    "loan_df = pd.read_csv(\"Loan_Train.csv\")\n",
    "loan_df.head()"
   ]
  },
  {
   "cell_type": "code",
   "execution_count": 5,
   "id": "69f5c721",
   "metadata": {},
   "outputs": [
    {
     "data": {
      "text/html": [
       "<div>\n",
       "<style scoped>\n",
       "    .dataframe tbody tr th:only-of-type {\n",
       "        vertical-align: middle;\n",
       "    }\n",
       "\n",
       "    .dataframe tbody tr th {\n",
       "        vertical-align: top;\n",
       "    }\n",
       "\n",
       "    .dataframe thead th {\n",
       "        text-align: right;\n",
       "    }\n",
       "</style>\n",
       "<table border=\"1\" class=\"dataframe\">\n",
       "  <thead>\n",
       "    <tr style=\"text-align: right;\">\n",
       "      <th></th>\n",
       "      <th>Loan_ID</th>\n",
       "      <th>Gender</th>\n",
       "      <th>Married</th>\n",
       "      <th>Dependents</th>\n",
       "      <th>Education</th>\n",
       "      <th>Self_Employed</th>\n",
       "      <th>ApplicantIncome</th>\n",
       "      <th>CoapplicantIncome</th>\n",
       "      <th>LoanAmount</th>\n",
       "      <th>Loan_Amount_Term</th>\n",
       "      <th>Credit_History</th>\n",
       "      <th>Property_Area</th>\n",
       "      <th>Loan_Status</th>\n",
       "      <th>Loan_Status_Numeric</th>\n",
       "    </tr>\n",
       "  </thead>\n",
       "  <tbody>\n",
       "    <tr>\n",
       "      <th>0</th>\n",
       "      <td>LP001002</td>\n",
       "      <td>Male</td>\n",
       "      <td>No</td>\n",
       "      <td>0</td>\n",
       "      <td>Graduate</td>\n",
       "      <td>No</td>\n",
       "      <td>5849</td>\n",
       "      <td>0.0</td>\n",
       "      <td>NaN</td>\n",
       "      <td>360.0</td>\n",
       "      <td>1.0</td>\n",
       "      <td>Urban</td>\n",
       "      <td>Y</td>\n",
       "      <td>1</td>\n",
       "    </tr>\n",
       "    <tr>\n",
       "      <th>1</th>\n",
       "      <td>LP001003</td>\n",
       "      <td>Male</td>\n",
       "      <td>Yes</td>\n",
       "      <td>1</td>\n",
       "      <td>Graduate</td>\n",
       "      <td>No</td>\n",
       "      <td>4583</td>\n",
       "      <td>1508.0</td>\n",
       "      <td>128.0</td>\n",
       "      <td>360.0</td>\n",
       "      <td>1.0</td>\n",
       "      <td>Rural</td>\n",
       "      <td>N</td>\n",
       "      <td>0</td>\n",
       "    </tr>\n",
       "    <tr>\n",
       "      <th>2</th>\n",
       "      <td>LP001005</td>\n",
       "      <td>Male</td>\n",
       "      <td>Yes</td>\n",
       "      <td>0</td>\n",
       "      <td>Graduate</td>\n",
       "      <td>Yes</td>\n",
       "      <td>3000</td>\n",
       "      <td>0.0</td>\n",
       "      <td>66.0</td>\n",
       "      <td>360.0</td>\n",
       "      <td>1.0</td>\n",
       "      <td>Urban</td>\n",
       "      <td>Y</td>\n",
       "      <td>1</td>\n",
       "    </tr>\n",
       "    <tr>\n",
       "      <th>3</th>\n",
       "      <td>LP001006</td>\n",
       "      <td>Male</td>\n",
       "      <td>Yes</td>\n",
       "      <td>0</td>\n",
       "      <td>Not Graduate</td>\n",
       "      <td>No</td>\n",
       "      <td>2583</td>\n",
       "      <td>2358.0</td>\n",
       "      <td>120.0</td>\n",
       "      <td>360.0</td>\n",
       "      <td>1.0</td>\n",
       "      <td>Urban</td>\n",
       "      <td>Y</td>\n",
       "      <td>1</td>\n",
       "    </tr>\n",
       "    <tr>\n",
       "      <th>4</th>\n",
       "      <td>LP001008</td>\n",
       "      <td>Male</td>\n",
       "      <td>No</td>\n",
       "      <td>0</td>\n",
       "      <td>Graduate</td>\n",
       "      <td>No</td>\n",
       "      <td>6000</td>\n",
       "      <td>0.0</td>\n",
       "      <td>141.0</td>\n",
       "      <td>360.0</td>\n",
       "      <td>1.0</td>\n",
       "      <td>Urban</td>\n",
       "      <td>Y</td>\n",
       "      <td>1</td>\n",
       "    </tr>\n",
       "  </tbody>\n",
       "</table>\n",
       "</div>"
      ],
      "text/plain": [
       "    Loan_ID Gender Married Dependents     Education Self_Employed  \\\n",
       "0  LP001002   Male      No          0      Graduate            No   \n",
       "1  LP001003   Male     Yes          1      Graduate            No   \n",
       "2  LP001005   Male     Yes          0      Graduate           Yes   \n",
       "3  LP001006   Male     Yes          0  Not Graduate            No   \n",
       "4  LP001008   Male      No          0      Graduate            No   \n",
       "\n",
       "   ApplicantIncome  CoapplicantIncome  LoanAmount  Loan_Amount_Term  \\\n",
       "0             5849                0.0         NaN             360.0   \n",
       "1             4583             1508.0       128.0             360.0   \n",
       "2             3000                0.0        66.0             360.0   \n",
       "3             2583             2358.0       120.0             360.0   \n",
       "4             6000                0.0       141.0             360.0   \n",
       "\n",
       "   Credit_History Property_Area Loan_Status  Loan_Status_Numeric  \n",
       "0             1.0         Urban           Y                    1  \n",
       "1             1.0         Rural           N                    0  \n",
       "2             1.0         Urban           Y                    1  \n",
       "3             1.0         Urban           Y                    1  \n",
       "4             1.0         Urban           Y                    1  "
      ]
     },
     "execution_count": 5,
     "metadata": {},
     "output_type": "execute_result"
    }
   ],
   "source": [
    "#create coded column for Loan_status\n",
    "loan_df['Loan_Status_Numeric'] = loan_df['Loan_Status'].replace(to_replace = ['Y', 'N'], value=[1,0])\n",
    "loan_df.head()"
   ]
  },
  {
   "cell_type": "code",
   "execution_count": 6,
   "id": "0f0ba363",
   "metadata": {},
   "outputs": [
    {
     "data": {
      "text/plain": [
       "(614, 14)"
      ]
     },
     "execution_count": 6,
     "metadata": {},
     "output_type": "execute_result"
    }
   ],
   "source": [
    "#check shape of dataframe for comparison\n",
    "loan_df.shape"
   ]
  },
  {
   "cell_type": "code",
   "execution_count": 7,
   "id": "2b78cae3",
   "metadata": {},
   "outputs": [
    {
     "data": {
      "text/plain": [
       "Loan_ID                 0\n",
       "Gender                 13\n",
       "Married                 3\n",
       "Dependents             15\n",
       "Education               0\n",
       "Self_Employed          32\n",
       "ApplicantIncome         0\n",
       "CoapplicantIncome       0\n",
       "LoanAmount             22\n",
       "Loan_Amount_Term       14\n",
       "Credit_History         50\n",
       "Property_Area           0\n",
       "Loan_Status             0\n",
       "Loan_Status_Numeric     0\n",
       "dtype: int64"
      ]
     },
     "execution_count": 7,
     "metadata": {},
     "output_type": "execute_result"
    }
   ],
   "source": [
    "#find count of na values\n",
    "loan_df.isna().sum()"
   ]
  },
  {
   "cell_type": "code",
   "execution_count": 8,
   "id": "c10fc3fc",
   "metadata": {},
   "outputs": [],
   "source": [
    "#drop Loan_ID column\n",
    "loan_df.drop('Loan_ID', axis=1, inplace = True)"
   ]
  },
  {
   "cell_type": "code",
   "execution_count": 9,
   "id": "c217ba34",
   "metadata": {},
   "outputs": [],
   "source": [
    "#drop any rows with missing values\n",
    "loan_df = loan_df.dropna()"
   ]
  },
  {
   "cell_type": "code",
   "execution_count": 10,
   "id": "dd3740e3",
   "metadata": {},
   "outputs": [
    {
     "data": {
      "text/plain": [
       "(480, 13)"
      ]
     },
     "execution_count": 10,
     "metadata": {},
     "output_type": "execute_result"
    }
   ],
   "source": [
    "#confirm rows were dropped\n",
    "loan_df.shape"
   ]
  },
  {
   "cell_type": "code",
   "execution_count": 11,
   "id": "c370d4ab",
   "metadata": {},
   "outputs": [
    {
     "data": {
      "text/plain": [
       "Gender                  object\n",
       "Married                 object\n",
       "Dependents              object\n",
       "Education               object\n",
       "Self_Employed           object\n",
       "ApplicantIncome          int64\n",
       "CoapplicantIncome      float64\n",
       "LoanAmount             float64\n",
       "Loan_Amount_Term       float64\n",
       "Credit_History         float64\n",
       "Property_Area           object\n",
       "Loan_Status             object\n",
       "Loan_Status_Numeric      int64\n",
       "dtype: object"
      ]
     },
     "execution_count": 11,
     "metadata": {},
     "output_type": "execute_result"
    }
   ],
   "source": [
    "#check dtypes for columns\n",
    "loan_df.dtypes"
   ]
  },
  {
   "cell_type": "code",
   "execution_count": 12,
   "id": "449c82c8",
   "metadata": {},
   "outputs": [
    {
     "data": {
      "text/plain": [
       "['Property_Area',\n",
       " 'Gender',\n",
       " 'Loan_Status',\n",
       " 'Self_Employed',\n",
       " 'Married',\n",
       " 'Dependents',\n",
       " 'Education']"
      ]
     },
     "execution_count": 12,
     "metadata": {},
     "output_type": "execute_result"
    }
   ],
   "source": [
    "#find categorical columns\n",
    "cat_cols = loan_df.select_dtypes('object').columns\n",
    "cat_cols = list(set(cat_cols))\n",
    "cat_cols"
   ]
  },
  {
   "cell_type": "code",
   "execution_count": 13,
   "id": "9c268a0c",
   "metadata": {},
   "outputs": [],
   "source": [
    "#get dummy variables for categorical columns\n",
    "loan_df = pd.get_dummies(loan_df, columns = cat_cols)"
   ]
  },
  {
   "cell_type": "code",
   "execution_count": 14,
   "id": "983e19e3",
   "metadata": {},
   "outputs": [
    {
     "name": "stdout",
     "output_type": "stream",
     "text": [
      "(480, 23)\n",
      "ApplicantIncome            0\n",
      "CoapplicantIncome          0\n",
      "LoanAmount                 0\n",
      "Loan_Amount_Term           0\n",
      "Credit_History             0\n",
      "Loan_Status_Numeric        0\n",
      "Property_Area_Rural        0\n",
      "Property_Area_Semiurban    0\n",
      "Property_Area_Urban        0\n",
      "Gender_Female              0\n",
      "Gender_Male                0\n",
      "Loan_Status_N              0\n",
      "Loan_Status_Y              0\n",
      "Self_Employed_No           0\n",
      "Self_Employed_Yes          0\n",
      "Married_No                 0\n",
      "Married_Yes                0\n",
      "Dependents_0               0\n",
      "Dependents_1               0\n",
      "Dependents_2               0\n",
      "Dependents_3+              0\n",
      "Education_Graduate         0\n",
      "Education_Not Graduate     0\n",
      "dtype: int64\n"
     ]
    },
    {
     "data": {
      "text/html": [
       "<div>\n",
       "<style scoped>\n",
       "    .dataframe tbody tr th:only-of-type {\n",
       "        vertical-align: middle;\n",
       "    }\n",
       "\n",
       "    .dataframe tbody tr th {\n",
       "        vertical-align: top;\n",
       "    }\n",
       "\n",
       "    .dataframe thead th {\n",
       "        text-align: right;\n",
       "    }\n",
       "</style>\n",
       "<table border=\"1\" class=\"dataframe\">\n",
       "  <thead>\n",
       "    <tr style=\"text-align: right;\">\n",
       "      <th></th>\n",
       "      <th>ApplicantIncome</th>\n",
       "      <th>CoapplicantIncome</th>\n",
       "      <th>LoanAmount</th>\n",
       "      <th>Loan_Amount_Term</th>\n",
       "      <th>Credit_History</th>\n",
       "      <th>Loan_Status_Numeric</th>\n",
       "      <th>Property_Area_Rural</th>\n",
       "      <th>Property_Area_Semiurban</th>\n",
       "      <th>Property_Area_Urban</th>\n",
       "      <th>Gender_Female</th>\n",
       "      <th>...</th>\n",
       "      <th>Self_Employed_No</th>\n",
       "      <th>Self_Employed_Yes</th>\n",
       "      <th>Married_No</th>\n",
       "      <th>Married_Yes</th>\n",
       "      <th>Dependents_0</th>\n",
       "      <th>Dependents_1</th>\n",
       "      <th>Dependents_2</th>\n",
       "      <th>Dependents_3+</th>\n",
       "      <th>Education_Graduate</th>\n",
       "      <th>Education_Not Graduate</th>\n",
       "    </tr>\n",
       "  </thead>\n",
       "  <tbody>\n",
       "    <tr>\n",
       "      <th>1</th>\n",
       "      <td>4583</td>\n",
       "      <td>1508.0</td>\n",
       "      <td>128.0</td>\n",
       "      <td>360.0</td>\n",
       "      <td>1.0</td>\n",
       "      <td>0</td>\n",
       "      <td>1</td>\n",
       "      <td>0</td>\n",
       "      <td>0</td>\n",
       "      <td>0</td>\n",
       "      <td>...</td>\n",
       "      <td>1</td>\n",
       "      <td>0</td>\n",
       "      <td>0</td>\n",
       "      <td>1</td>\n",
       "      <td>0</td>\n",
       "      <td>1</td>\n",
       "      <td>0</td>\n",
       "      <td>0</td>\n",
       "      <td>1</td>\n",
       "      <td>0</td>\n",
       "    </tr>\n",
       "    <tr>\n",
       "      <th>2</th>\n",
       "      <td>3000</td>\n",
       "      <td>0.0</td>\n",
       "      <td>66.0</td>\n",
       "      <td>360.0</td>\n",
       "      <td>1.0</td>\n",
       "      <td>1</td>\n",
       "      <td>0</td>\n",
       "      <td>0</td>\n",
       "      <td>1</td>\n",
       "      <td>0</td>\n",
       "      <td>...</td>\n",
       "      <td>0</td>\n",
       "      <td>1</td>\n",
       "      <td>0</td>\n",
       "      <td>1</td>\n",
       "      <td>1</td>\n",
       "      <td>0</td>\n",
       "      <td>0</td>\n",
       "      <td>0</td>\n",
       "      <td>1</td>\n",
       "      <td>0</td>\n",
       "    </tr>\n",
       "    <tr>\n",
       "      <th>3</th>\n",
       "      <td>2583</td>\n",
       "      <td>2358.0</td>\n",
       "      <td>120.0</td>\n",
       "      <td>360.0</td>\n",
       "      <td>1.0</td>\n",
       "      <td>1</td>\n",
       "      <td>0</td>\n",
       "      <td>0</td>\n",
       "      <td>1</td>\n",
       "      <td>0</td>\n",
       "      <td>...</td>\n",
       "      <td>1</td>\n",
       "      <td>0</td>\n",
       "      <td>0</td>\n",
       "      <td>1</td>\n",
       "      <td>1</td>\n",
       "      <td>0</td>\n",
       "      <td>0</td>\n",
       "      <td>0</td>\n",
       "      <td>0</td>\n",
       "      <td>1</td>\n",
       "    </tr>\n",
       "    <tr>\n",
       "      <th>4</th>\n",
       "      <td>6000</td>\n",
       "      <td>0.0</td>\n",
       "      <td>141.0</td>\n",
       "      <td>360.0</td>\n",
       "      <td>1.0</td>\n",
       "      <td>1</td>\n",
       "      <td>0</td>\n",
       "      <td>0</td>\n",
       "      <td>1</td>\n",
       "      <td>0</td>\n",
       "      <td>...</td>\n",
       "      <td>1</td>\n",
       "      <td>0</td>\n",
       "      <td>1</td>\n",
       "      <td>0</td>\n",
       "      <td>1</td>\n",
       "      <td>0</td>\n",
       "      <td>0</td>\n",
       "      <td>0</td>\n",
       "      <td>1</td>\n",
       "      <td>0</td>\n",
       "    </tr>\n",
       "    <tr>\n",
       "      <th>5</th>\n",
       "      <td>5417</td>\n",
       "      <td>4196.0</td>\n",
       "      <td>267.0</td>\n",
       "      <td>360.0</td>\n",
       "      <td>1.0</td>\n",
       "      <td>1</td>\n",
       "      <td>0</td>\n",
       "      <td>0</td>\n",
       "      <td>1</td>\n",
       "      <td>0</td>\n",
       "      <td>...</td>\n",
       "      <td>0</td>\n",
       "      <td>1</td>\n",
       "      <td>0</td>\n",
       "      <td>1</td>\n",
       "      <td>0</td>\n",
       "      <td>0</td>\n",
       "      <td>1</td>\n",
       "      <td>0</td>\n",
       "      <td>1</td>\n",
       "      <td>0</td>\n",
       "    </tr>\n",
       "  </tbody>\n",
       "</table>\n",
       "<p>5 rows × 23 columns</p>\n",
       "</div>"
      ],
      "text/plain": [
       "   ApplicantIncome  CoapplicantIncome  LoanAmount  Loan_Amount_Term  \\\n",
       "1             4583             1508.0       128.0             360.0   \n",
       "2             3000                0.0        66.0             360.0   \n",
       "3             2583             2358.0       120.0             360.0   \n",
       "4             6000                0.0       141.0             360.0   \n",
       "5             5417             4196.0       267.0             360.0   \n",
       "\n",
       "   Credit_History  Loan_Status_Numeric  Property_Area_Rural  \\\n",
       "1             1.0                    0                    1   \n",
       "2             1.0                    1                    0   \n",
       "3             1.0                    1                    0   \n",
       "4             1.0                    1                    0   \n",
       "5             1.0                    1                    0   \n",
       "\n",
       "   Property_Area_Semiurban  Property_Area_Urban  Gender_Female  ...  \\\n",
       "1                        0                    0              0  ...   \n",
       "2                        0                    1              0  ...   \n",
       "3                        0                    1              0  ...   \n",
       "4                        0                    1              0  ...   \n",
       "5                        0                    1              0  ...   \n",
       "\n",
       "   Self_Employed_No  Self_Employed_Yes  Married_No  Married_Yes  Dependents_0  \\\n",
       "1                 1                  0           0            1             0   \n",
       "2                 0                  1           0            1             1   \n",
       "3                 1                  0           0            1             1   \n",
       "4                 1                  0           1            0             1   \n",
       "5                 0                  1           0            1             0   \n",
       "\n",
       "   Dependents_1  Dependents_2  Dependents_3+  Education_Graduate  \\\n",
       "1             1             0              0                   1   \n",
       "2             0             0              0                   1   \n",
       "3             0             0              0                   0   \n",
       "4             0             0              0                   1   \n",
       "5             0             1              0                   1   \n",
       "\n",
       "   Education_Not Graduate  \n",
       "1                       0  \n",
       "2                       0  \n",
       "3                       1  \n",
       "4                       0  \n",
       "5                       0  \n",
       "\n",
       "[5 rows x 23 columns]"
      ]
     },
     "execution_count": 14,
     "metadata": {},
     "output_type": "execute_result"
    }
   ],
   "source": [
    "#confirm dataframe is cleaned\n",
    "print(loan_df.shape)\n",
    "print(loan_df.isna().sum())\n",
    "loan_df.head()"
   ]
  },
  {
   "cell_type": "code",
   "execution_count": 15,
   "id": "40fc0ab9",
   "metadata": {},
   "outputs": [],
   "source": [
    "#split data into training and test set with 80/20 split and Loan_status as target\n",
    "from sklearn.model_selection import train_test_split\n",
    "X = loan_df.drop(['Loan_Status_Numeric', 'Loan_Status_N', 'Loan_Status_Y'], axis=1)\n",
    "y = loan_df['Loan_Status_Numeric']\n",
    "\n",
    "X_train, X_test, y_train, y_test = train_test_split(X, y, test_size = 0.2)"
   ]
  },
  {
   "cell_type": "code",
   "execution_count": 16,
   "id": "b605ab63",
   "metadata": {},
   "outputs": [],
   "source": [
    "#import needed libraries\n",
    "from sklearn.preprocessing import StandardScaler\n",
    "from sklearn.neighbors import KNeighborsClassifier\n",
    "from sklearn.pipeline import Pipeline, FeatureUnion\n",
    "from sklearn.model_selection import GridSearchCV\n",
    "from sklearn import preprocessing"
   ]
  },
  {
   "cell_type": "code",
   "execution_count": 17,
   "id": "60b49663",
   "metadata": {},
   "outputs": [],
   "source": [
    "#create scaler\n",
    "standardizer = StandardScaler()"
   ]
  },
  {
   "cell_type": "code",
   "execution_count": 18,
   "id": "a69ade2a",
   "metadata": {},
   "outputs": [],
   "source": [
    "#standardize the features\n",
    "X_train_stand = standardizer.fit_transform(X_train)\n",
    "X_test_stand = standardizer.transform(X_test)"
   ]
  },
  {
   "cell_type": "code",
   "execution_count": 19,
   "id": "0d7456bf",
   "metadata": {},
   "outputs": [],
   "source": [
    "#create KNN classifier\n",
    "knn = KNeighborsClassifier()"
   ]
  },
  {
   "cell_type": "code",
   "execution_count": 20,
   "id": "00b669cb",
   "metadata": {},
   "outputs": [],
   "source": [
    "#create pipeline \n",
    "pipe = Pipeline([('scaler', standardizer), ('knn', knn)])"
   ]
  },
  {
   "cell_type": "code",
   "execution_count": 21,
   "id": "a02bec32",
   "metadata": {},
   "outputs": [
    {
     "data": {
      "text/plain": [
       "0.6770833333333334"
      ]
     },
     "execution_count": 21,
     "metadata": {},
     "output_type": "execute_result"
    }
   ],
   "source": [
    "#fitting the pipeline and getting accuracy score\n",
    "from sklearn.metrics import accuracy_score\n",
    "pipe.fit(X_train_stand, y_train)\n",
    "pipe_pred = pipe.predict(X_test_stand)\n",
    "accuracy_score(y_test, pipe_pred)"
   ]
  },
  {
   "cell_type": "code",
   "execution_count": 22,
   "id": "0d2390e5",
   "metadata": {},
   "outputs": [],
   "source": [
    "#create search space with parameters 1-10\n",
    "search_space = [{'knn__n_neighbors': [1,2,3,4,5,6,7,8,9,10]}]"
   ]
  },
  {
   "cell_type": "code",
   "execution_count": 23,
   "id": "ed1bacc8",
   "metadata": {},
   "outputs": [],
   "source": [
    "#fit a grid search with pipe, search space and 5 fold CV\n",
    "classifier = GridSearchCV(pipe, search_space, cv=5, verbose=0).fit(X_train_stand, y_train)"
   ]
  },
  {
   "cell_type": "code",
   "execution_count": 24,
   "id": "0ee374b9",
   "metadata": {},
   "outputs": [
    {
     "data": {
      "text/plain": [
       "9"
      ]
     },
     "execution_count": 24,
     "metadata": {},
     "output_type": "execute_result"
    }
   ],
   "source": [
    "#find best value for n_neighbors\n",
    "classifier.best_estimator_.get_params()['knn__n_neighbors']"
   ]
  },
  {
   "cell_type": "code",
   "execution_count": 25,
   "id": "3c2232a3",
   "metadata": {},
   "outputs": [
    {
     "data": {
      "text/plain": [
       "0.75"
      ]
     },
     "execution_count": 25,
     "metadata": {},
     "output_type": "execute_result"
    }
   ],
   "source": [
    "#find accuracy for grid search on test set\n",
    "classifier_pred = classifier.predict(X_test_stand)\n",
    "accuracy_score(y_test, classifier_pred)"
   ]
  },
  {
   "cell_type": "code",
   "execution_count": 26,
   "id": "036f98b2",
   "metadata": {},
   "outputs": [],
   "source": [
    "#create new pipeline and search space including Logistic regression and Random Forest Model\n",
    "from sklearn.linear_model import LogisticRegression\n",
    "from sklearn.ensemble import RandomForestClassifier\n",
    "import liblinear\n",
    "\n",
    "pipe2 = Pipeline([('scaler', standardizer), ('classifier', RandomForestClassifier())])\n",
    "\n",
    "search_space2 = [{'classifier': [KNeighborsClassifier()], 'classifier__n_neighbors': [1,2,3,4,5,6,7,8,9,10]},\n",
    "                 {'classifier': [LogisticRegression(max_iter=1000, solver='saga')], \"classifier__penalty\": ['l2'], 'classifier__C': np.logspace(0,4,10)},\n",
    "                {'classifier': [RandomForestClassifier()], 'classifier__n_estimators': [10,100,1000], 'classifier__max_features': [1,2,3]}]"
   ]
  },
  {
   "cell_type": "code",
   "execution_count": 27,
   "id": "c2079b4f",
   "metadata": {},
   "outputs": [],
   "source": [
    "#create a grid search\n",
    "classifier2 = GridSearchCV(pipe2, search_space2, cv=5, verbose=0).fit(X_train_stand, y_train)"
   ]
  },
  {
   "cell_type": "code",
   "execution_count": 28,
   "id": "153abfd5",
   "metadata": {},
   "outputs": [
    {
     "data": {
      "text/plain": [
       "{'memory': None,\n",
       " 'steps': [('scaler', StandardScaler()),\n",
       "  ('classifier', LogisticRegression(max_iter=1000, solver='saga'))],\n",
       " 'verbose': False,\n",
       " 'scaler': StandardScaler(),\n",
       " 'classifier': LogisticRegression(max_iter=1000, solver='saga'),\n",
       " 'scaler__copy': True,\n",
       " 'scaler__with_mean': True,\n",
       " 'scaler__with_std': True,\n",
       " 'classifier__C': 1.0,\n",
       " 'classifier__class_weight': None,\n",
       " 'classifier__dual': False,\n",
       " 'classifier__fit_intercept': True,\n",
       " 'classifier__intercept_scaling': 1,\n",
       " 'classifier__l1_ratio': None,\n",
       " 'classifier__max_iter': 1000,\n",
       " 'classifier__multi_class': 'auto',\n",
       " 'classifier__n_jobs': None,\n",
       " 'classifier__penalty': 'l2',\n",
       " 'classifier__random_state': None,\n",
       " 'classifier__solver': 'saga',\n",
       " 'classifier__tol': 0.0001,\n",
       " 'classifier__verbose': 0,\n",
       " 'classifier__warm_start': False}"
      ]
     },
     "execution_count": 28,
     "metadata": {},
     "output_type": "execute_result"
    }
   ],
   "source": [
    "#get best model and parameters\n",
    "classifier2.best_estimator_.get_params()"
   ]
  },
  {
   "cell_type": "code",
   "execution_count": 29,
   "id": "1f106960",
   "metadata": {},
   "outputs": [
    {
     "data": {
      "text/plain": [
       "0.8333333333333334"
      ]
     },
     "execution_count": 29,
     "metadata": {},
     "output_type": "execute_result"
    }
   ],
   "source": [
    "#predict and get accuracy score for best model\n",
    "classifer2_pred = classifier2.predict(X_test_stand)\n",
    "accuracy_score(y_test, classifer2_pred)"
   ]
  },
  {
   "cell_type": "markdown",
   "id": "d6684f1e",
   "metadata": {},
   "source": [
    "## Summarize your results."
   ]
  },
  {
   "cell_type": "markdown",
   "id": "4abc7332",
   "metadata": {},
   "source": [
    "The accuracy of the model improved roughly from 67% to 75% after hyperparameter tuning the KNN classifier. It increased even further to 83% after expanding the grid search into other models with LogisticRegression being the best model for this dataset."
   ]
  }
 ],
 "metadata": {
  "kernelspec": {
   "display_name": "Python 3 (ipykernel)",
   "language": "python",
   "name": "python3"
  },
  "language_info": {
   "codemirror_mode": {
    "name": "ipython",
    "version": 3
   },
   "file_extension": ".py",
   "mimetype": "text/x-python",
   "name": "python",
   "nbconvert_exporter": "python",
   "pygments_lexer": "ipython3",
   "version": "3.9.7"
  }
 },
 "nbformat": 4,
 "nbformat_minor": 5
}
