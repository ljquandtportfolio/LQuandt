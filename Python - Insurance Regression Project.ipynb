{
 "cells": [
  {
   "cell_type": "markdown",
   "id": "abce9984",
   "metadata": {},
   "source": [
    "# Regression Project"
   ]
  },
  {
   "cell_type": "markdown",
   "id": "a3ea4e2c",
   "metadata": {},
   "source": [
    "Logan Quandt"
   ]
  },
  {
   "cell_type": "markdown",
   "id": "3c523d81",
   "metadata": {},
   "source": [
    "Topic: In the United States, it is known that the health care system has been straining for a long time due to exponentially rising health care costs and the complexity of insurance. To address some of these issues legislation has been introduced or passed such as the ACA which was intended to provide health insurance for more Americans, or the bill more recently introduced which will cap insulin prices to make health care more affordable. In the interest of bringing the United States health care costs per capita more in line with the rest of the developed world we must first understand the factors driving the increased claim costs. Understanding this information will be beneficial to government programs such as Medicare or Medicaid, health insurance providers and health service providers in bringing down medical costs through detection and prevention of those at risk for high claims. As someone who works in the health insurance industry, I have a vested interest in this business problem and know many companies attempt to do this now using machine learning to predict risk or claim amounts.\n",
    "\n",
    "Project: The focus of my project will be to build a regression model that can accurately predict claims costs based off numerous individual factors. To this end I have chosen a dataset from Kaggle that examines numerous factors for individuals (age, sex, BMI, number of children, region, and medical costs). The dataset contains 7 columns and 1338 records.  The dataset can be found at https://www.kaggle.com/datasets/teertha/ushealthinsurancedataset"
   ]
  },
  {
   "cell_type": "code",
   "execution_count": 230,
   "id": "ac5319ac",
   "metadata": {},
   "outputs": [],
   "source": [
    "import pandas as pd\n",
    "import numpy as np\n",
    "import matplotlib.pyplot as plt\n",
    "import seaborn as sns\n",
    "from sklearn.metrics import mean_absolute_error, mean_squared_error, r2_score"
   ]
  },
  {
   "cell_type": "code",
   "execution_count": 231,
   "id": "b19ae63b",
   "metadata": {},
   "outputs": [
    {
     "data": {
      "text/html": [
       "<div>\n",
       "<style scoped>\n",
       "    .dataframe tbody tr th:only-of-type {\n",
       "        vertical-align: middle;\n",
       "    }\n",
       "\n",
       "    .dataframe tbody tr th {\n",
       "        vertical-align: top;\n",
       "    }\n",
       "\n",
       "    .dataframe thead th {\n",
       "        text-align: right;\n",
       "    }\n",
       "</style>\n",
       "<table border=\"1\" class=\"dataframe\">\n",
       "  <thead>\n",
       "    <tr style=\"text-align: right;\">\n",
       "      <th></th>\n",
       "      <th>age</th>\n",
       "      <th>sex</th>\n",
       "      <th>bmi</th>\n",
       "      <th>children</th>\n",
       "      <th>smoker</th>\n",
       "      <th>region</th>\n",
       "      <th>charges</th>\n",
       "    </tr>\n",
       "  </thead>\n",
       "  <tbody>\n",
       "    <tr>\n",
       "      <th>0</th>\n",
       "      <td>19</td>\n",
       "      <td>female</td>\n",
       "      <td>27.900</td>\n",
       "      <td>0</td>\n",
       "      <td>yes</td>\n",
       "      <td>southwest</td>\n",
       "      <td>16884.92400</td>\n",
       "    </tr>\n",
       "    <tr>\n",
       "      <th>1</th>\n",
       "      <td>18</td>\n",
       "      <td>male</td>\n",
       "      <td>33.770</td>\n",
       "      <td>1</td>\n",
       "      <td>no</td>\n",
       "      <td>southeast</td>\n",
       "      <td>1725.55230</td>\n",
       "    </tr>\n",
       "    <tr>\n",
       "      <th>2</th>\n",
       "      <td>28</td>\n",
       "      <td>male</td>\n",
       "      <td>33.000</td>\n",
       "      <td>3</td>\n",
       "      <td>no</td>\n",
       "      <td>southeast</td>\n",
       "      <td>4449.46200</td>\n",
       "    </tr>\n",
       "    <tr>\n",
       "      <th>3</th>\n",
       "      <td>33</td>\n",
       "      <td>male</td>\n",
       "      <td>22.705</td>\n",
       "      <td>0</td>\n",
       "      <td>no</td>\n",
       "      <td>northwest</td>\n",
       "      <td>21984.47061</td>\n",
       "    </tr>\n",
       "    <tr>\n",
       "      <th>4</th>\n",
       "      <td>32</td>\n",
       "      <td>male</td>\n",
       "      <td>28.880</td>\n",
       "      <td>0</td>\n",
       "      <td>no</td>\n",
       "      <td>northwest</td>\n",
       "      <td>3866.85520</td>\n",
       "    </tr>\n",
       "    <tr>\n",
       "      <th>...</th>\n",
       "      <td>...</td>\n",
       "      <td>...</td>\n",
       "      <td>...</td>\n",
       "      <td>...</td>\n",
       "      <td>...</td>\n",
       "      <td>...</td>\n",
       "      <td>...</td>\n",
       "    </tr>\n",
       "    <tr>\n",
       "      <th>1333</th>\n",
       "      <td>50</td>\n",
       "      <td>male</td>\n",
       "      <td>30.970</td>\n",
       "      <td>3</td>\n",
       "      <td>no</td>\n",
       "      <td>northwest</td>\n",
       "      <td>10600.54830</td>\n",
       "    </tr>\n",
       "    <tr>\n",
       "      <th>1334</th>\n",
       "      <td>18</td>\n",
       "      <td>female</td>\n",
       "      <td>31.920</td>\n",
       "      <td>0</td>\n",
       "      <td>no</td>\n",
       "      <td>northeast</td>\n",
       "      <td>2205.98080</td>\n",
       "    </tr>\n",
       "    <tr>\n",
       "      <th>1335</th>\n",
       "      <td>18</td>\n",
       "      <td>female</td>\n",
       "      <td>36.850</td>\n",
       "      <td>0</td>\n",
       "      <td>no</td>\n",
       "      <td>southeast</td>\n",
       "      <td>1629.83350</td>\n",
       "    </tr>\n",
       "    <tr>\n",
       "      <th>1336</th>\n",
       "      <td>21</td>\n",
       "      <td>female</td>\n",
       "      <td>25.800</td>\n",
       "      <td>0</td>\n",
       "      <td>no</td>\n",
       "      <td>southwest</td>\n",
       "      <td>2007.94500</td>\n",
       "    </tr>\n",
       "    <tr>\n",
       "      <th>1337</th>\n",
       "      <td>61</td>\n",
       "      <td>female</td>\n",
       "      <td>29.070</td>\n",
       "      <td>0</td>\n",
       "      <td>yes</td>\n",
       "      <td>northwest</td>\n",
       "      <td>29141.36030</td>\n",
       "    </tr>\n",
       "  </tbody>\n",
       "</table>\n",
       "<p>1338 rows × 7 columns</p>\n",
       "</div>"
      ],
      "text/plain": [
       "      age     sex     bmi  children smoker     region      charges\n",
       "0      19  female  27.900         0    yes  southwest  16884.92400\n",
       "1      18    male  33.770         1     no  southeast   1725.55230\n",
       "2      28    male  33.000         3     no  southeast   4449.46200\n",
       "3      33    male  22.705         0     no  northwest  21984.47061\n",
       "4      32    male  28.880         0     no  northwest   3866.85520\n",
       "...   ...     ...     ...       ...    ...        ...          ...\n",
       "1333   50    male  30.970         3     no  northwest  10600.54830\n",
       "1334   18  female  31.920         0     no  northeast   2205.98080\n",
       "1335   18  female  36.850         0     no  southeast   1629.83350\n",
       "1336   21  female  25.800         0     no  southwest   2007.94500\n",
       "1337   61  female  29.070         0    yes  northwest  29141.36030\n",
       "\n",
       "[1338 rows x 7 columns]"
      ]
     },
     "execution_count": 231,
     "metadata": {},
     "output_type": "execute_result"
    }
   ],
   "source": [
    "#load in csv file\n",
    "health_df = pd.read_csv('insurance.csv')\n",
    "health_df"
   ]
  },
  {
   "cell_type": "code",
   "execution_count": 232,
   "id": "489bc96b",
   "metadata": {},
   "outputs": [
    {
     "data": {
      "text/html": [
       "<div>\n",
       "<style scoped>\n",
       "    .dataframe tbody tr th:only-of-type {\n",
       "        vertical-align: middle;\n",
       "    }\n",
       "\n",
       "    .dataframe tbody tr th {\n",
       "        vertical-align: top;\n",
       "    }\n",
       "\n",
       "    .dataframe thead th {\n",
       "        text-align: right;\n",
       "    }\n",
       "</style>\n",
       "<table border=\"1\" class=\"dataframe\">\n",
       "  <thead>\n",
       "    <tr style=\"text-align: right;\">\n",
       "      <th></th>\n",
       "      <th>age</th>\n",
       "      <th>bmi</th>\n",
       "      <th>children</th>\n",
       "      <th>charges</th>\n",
       "    </tr>\n",
       "  </thead>\n",
       "  <tbody>\n",
       "    <tr>\n",
       "      <th>count</th>\n",
       "      <td>1338.000000</td>\n",
       "      <td>1338.000000</td>\n",
       "      <td>1338.000000</td>\n",
       "      <td>1338.000000</td>\n",
       "    </tr>\n",
       "    <tr>\n",
       "      <th>mean</th>\n",
       "      <td>39.207025</td>\n",
       "      <td>30.663397</td>\n",
       "      <td>1.094918</td>\n",
       "      <td>13270.422265</td>\n",
       "    </tr>\n",
       "    <tr>\n",
       "      <th>std</th>\n",
       "      <td>14.049960</td>\n",
       "      <td>6.098187</td>\n",
       "      <td>1.205493</td>\n",
       "      <td>12110.011237</td>\n",
       "    </tr>\n",
       "    <tr>\n",
       "      <th>min</th>\n",
       "      <td>18.000000</td>\n",
       "      <td>15.960000</td>\n",
       "      <td>0.000000</td>\n",
       "      <td>1121.873900</td>\n",
       "    </tr>\n",
       "    <tr>\n",
       "      <th>25%</th>\n",
       "      <td>27.000000</td>\n",
       "      <td>26.296250</td>\n",
       "      <td>0.000000</td>\n",
       "      <td>4740.287150</td>\n",
       "    </tr>\n",
       "    <tr>\n",
       "      <th>50%</th>\n",
       "      <td>39.000000</td>\n",
       "      <td>30.400000</td>\n",
       "      <td>1.000000</td>\n",
       "      <td>9382.033000</td>\n",
       "    </tr>\n",
       "    <tr>\n",
       "      <th>75%</th>\n",
       "      <td>51.000000</td>\n",
       "      <td>34.693750</td>\n",
       "      <td>2.000000</td>\n",
       "      <td>16639.912515</td>\n",
       "    </tr>\n",
       "    <tr>\n",
       "      <th>max</th>\n",
       "      <td>64.000000</td>\n",
       "      <td>53.130000</td>\n",
       "      <td>5.000000</td>\n",
       "      <td>63770.428010</td>\n",
       "    </tr>\n",
       "  </tbody>\n",
       "</table>\n",
       "</div>"
      ],
      "text/plain": [
       "               age          bmi     children       charges\n",
       "count  1338.000000  1338.000000  1338.000000   1338.000000\n",
       "mean     39.207025    30.663397     1.094918  13270.422265\n",
       "std      14.049960     6.098187     1.205493  12110.011237\n",
       "min      18.000000    15.960000     0.000000   1121.873900\n",
       "25%      27.000000    26.296250     0.000000   4740.287150\n",
       "50%      39.000000    30.400000     1.000000   9382.033000\n",
       "75%      51.000000    34.693750     2.000000  16639.912515\n",
       "max      64.000000    53.130000     5.000000  63770.428010"
      ]
     },
     "execution_count": 232,
     "metadata": {},
     "output_type": "execute_result"
    }
   ],
   "source": [
    "#use describe to get some key statistics\n",
    "health_df.describe()"
   ]
  },
  {
   "cell_type": "code",
   "execution_count": 233,
   "id": "27cda8e4",
   "metadata": {},
   "outputs": [
    {
     "data": {
      "image/png": "[encoded data removed]",
      "text/plain": [
       "<Figure size 432x288 with 1 Axes>"
      ]
     },
     "metadata": {
      "needs_background": "light"
     },
     "output_type": "display_data"
    }
   ],
   "source": [
    "#plot histogram for male medical costs - UPDATED since MILESTONE 3 to gain better insights for EDA\n",
    "fig = plt.figure\n",
    "sns.histplot(data = health_df[health_df['sex'] == 'male'], x='charges', label='Male', color='blue')\n",
    "sns.histplot(data = health_df[health_df['sex'] == 'female'], x='charges', label='Female', color = 'red')\n",
    "plt.title(\"Medical Cost Histogram - Gender\")\n",
    "plt.xlabel('Medical Costs')\n",
    "plt.ylabel('Count')\n",
    "plt.legend()\n",
    "plt.show()"
   ]
  },
  {
   "cell_type": "code",
   "execution_count": 234,
   "id": "92da1d9e",
   "metadata": {},
   "outputs": [
    {
     "data": {
      "image/png": "[encoded data removed]",
      "text/plain": [
       "<Figure size 432x288 with 1 Axes>"
      ]
     },
     "metadata": {
      "needs_background": "light"
     },
     "output_type": "display_data"
    },
    {
     "data": {
      "image/png": "[encoded data removed]",
      "text/plain": [
       "<Figure size 432x288 with 1 Axes>"
      ]
     },
     "metadata": {
      "needs_background": "light"
     },
     "output_type": "display_data"
    },
    {
     "data": {
      "image/png": "[encoded data removed]",
      "text/plain": [
       "<Figure size 432x288 with 1 Axes>"
      ]
     },
     "metadata": {
      "needs_background": "light"
     },
     "output_type": "display_data"
    }
   ],
   "source": [
    "#plot histogram for smoking status\n",
    "sns.histplot(health_df.smoker, bins='auto')\n",
    "plt.title('Smoking Status Histogram')\n",
    "plt.xlabel('Smoking Status')\n",
    "plt.ylabel('Count')\n",
    "plt.show()\n",
    "\n",
    "#plot histogram for BMI\n",
    "sns.histplot(x= health_df.bmi, bins = 'auto')\n",
    "plt.title('BMI histogram')\n",
    "plt.xlabel('BMI')\n",
    "plt.ylabel('Count')\n",
    "plt.show()\n",
    "\n",
    "#plot histogram of costs by smoking - UPDATED SINCE MILESTONE 3 to gain better EDA insights\n",
    "sns.histplot(data = health_df[health_df['smoker'] == 'no'], x='charges', label='Non-Smoker', color='blue')\n",
    "sns.histplot(data = health_df[health_df['smoker'] == 'yes'], x='charges', label='Smoker', color = 'red')\n",
    "plt.title(\"Medical Cost Histogram - Smoking Status\")\n",
    "plt.xlabel('Medical Costs')\n",
    "plt.ylabel('Count')\n",
    "plt.legend()\n",
    "plt.show()"
   ]
  },
  {
   "cell_type": "code",
   "execution_count": 235,
   "id": "dd3e94bc",
   "metadata": {},
   "outputs": [
    {
     "data": {
      "image/png": "[encoded data removed]",
      "text/plain": [
       "<Figure size 432x288 with 1 Axes>"
      ]
     },
     "metadata": {
      "needs_background": "light"
     },
     "output_type": "display_data"
    },
    {
     "data": {
      "image/png": "[encoded data removed]",
      "text/plain": [
       "<Figure size 432x288 with 1 Axes>"
      ]
     },
     "metadata": {
      "needs_background": "light"
     },
     "output_type": "display_data"
    }
   ],
   "source": [
    "#plot scatterplot for age vs medical costs\n",
    "sns.scatterplot(x=health_df.age, y=health_df.charges)\n",
    "plt.title(\"Medical Costs vs Age\")\n",
    "plt.xlabel('Age')\n",
    "plt.ylabel('Medical Costs')\n",
    "plt.show()\n",
    "\n",
    "#plot scatterplot for smoking status vs medical costs - UPDATED since Milestone 3 from smoking status to BMI as smoking status was moved to a histplot\n",
    "sns.scatterplot(x=health_df.bmi, y=health_df.charges)\n",
    "plt.title('Medical Costs vs BMI')\n",
    "plt.xlabel('Smoking Status')\n",
    "plt.ylabel('Medical Costs')\n",
    "plt.show()"
   ]
  },
  {
   "cell_type": "code",
   "execution_count": 236,
   "id": "bb870ea4",
   "metadata": {},
   "outputs": [
    {
     "data": {
      "image/png": "[encoded data removed]",
      "text/plain": [
       "<Figure size 432x288 with 1 Axes>"
      ]
     },
     "metadata": {
      "needs_background": "light"
     },
     "output_type": "display_data"
    }
   ],
   "source": [
    "#plot bar chart for charges by region\n",
    "plt.bar(health_df['region'], health_df['charges'])\n",
    "plt.title('Regions vs Medical Costs')\n",
    "plt.xlabel('Region')\n",
    "plt.ylabel('Medical Costs')\n",
    "plt.show()"
   ]
  },
  {
   "cell_type": "markdown",
   "id": "75ecce67",
   "metadata": {},
   "source": [
    "## Overview/Conclusion"
   ]
  },
  {
   "cell_type": "markdown",
   "id": "6645aac9",
   "metadata": {},
   "source": [
    "Visualization 1: This histogram on medical costs shows that most claims are positively skewed. There are a few outliers at the high end of the claim costs over $60000\n",
    "\n",
    "Visualization 2: This visualization shows that most people (1000) are non-smokers and around 300 are smokers. \n",
    "\n",
    "Visualization 3: This graph shows that BMI is approximately normally distributed but tends to be high from a health status as over 25 is considered overweight. \n",
    "\n",
    "Visualization 4: This scatterplot shows that claim costs tend to rise as people age. There are also a few outliers that may need to be addressed.\n",
    "\n",
    "Visualization 5: This scatterplot shows that smokers tend to have higher medical costs than non-smokers.\n",
    "\n",
    "Visualization 6: This bar graph shows the breakdown of regions which have the highest claim costs. The southwest has the lowest claims and the southeast has the highest claims. \n"
   ]
  },
  {
   "cell_type": "code",
   "execution_count": 237,
   "id": "745242d7",
   "metadata": {},
   "outputs": [
    {
     "data": {
      "text/plain": [
       "age         0\n",
       "sex         0\n",
       "bmi         0\n",
       "children    0\n",
       "smoker      0\n",
       "region      0\n",
       "charges     0\n",
       "dtype: int64"
      ]
     },
     "execution_count": 237,
     "metadata": {},
     "output_type": "execute_result"
    }
   ],
   "source": [
    "#checking for missing values\n",
    "health_df.isna().sum()"
   ]
  },
  {
   "cell_type": "code",
   "execution_count": 238,
   "id": "56b434a7",
   "metadata": {},
   "outputs": [
    {
     "data": {
      "text/plain": [
       "581      True\n",
       "0       False\n",
       "889     False\n",
       "897     False\n",
       "896     False\n",
       "        ...  \n",
       "445     False\n",
       "444     False\n",
       "443     False\n",
       "442     False\n",
       "1337    False\n",
       "Length: 1338, dtype: bool"
      ]
     },
     "execution_count": 238,
     "metadata": {},
     "output_type": "execute_result"
    }
   ],
   "source": [
    "#check for duplicates\n",
    "health_df.duplicated().sort_values(ascending=False)"
   ]
  },
  {
   "cell_type": "code",
   "execution_count": 239,
   "id": "f14213db",
   "metadata": {},
   "outputs": [
    {
     "data": {
      "text/plain": [
       "(1337, 7)"
      ]
     },
     "execution_count": 239,
     "metadata": {},
     "output_type": "execute_result"
    }
   ],
   "source": [
    "#drop the duplicate values\n",
    "health_df.drop_duplicates(inplace=True)\n",
    "health_df.shape"
   ]
  },
  {
   "cell_type": "markdown",
   "id": "18e2c665",
   "metadata": {},
   "source": [
    "There was no missing values to deal with, though I did remove one duplicate value from the data."
   ]
  },
  {
   "cell_type": "markdown",
   "id": "7a79a58c",
   "metadata": {},
   "source": [
    "My dataset has categorical columns for sex, smoker and region which will need to be converted into dummy variables."
   ]
  },
  {
   "cell_type": "code",
   "execution_count": 240,
   "id": "4fd2e7af",
   "metadata": {},
   "outputs": [
    {
     "data": {
      "text/plain": [
       "age           int64\n",
       "sex          object\n",
       "bmi         float64\n",
       "children      int64\n",
       "smoker       object\n",
       "region       object\n",
       "charges     float64\n",
       "dtype: object"
      ]
     },
     "execution_count": 240,
     "metadata": {},
     "output_type": "execute_result"
    }
   ],
   "source": [
    "#check dtype of columns\n",
    "health_df.dtypes"
   ]
  },
  {
   "cell_type": "code",
   "execution_count": 241,
   "id": "6e3ae104",
   "metadata": {},
   "outputs": [
    {
     "data": {
      "text/html": [
       "<div>\n",
       "<style scoped>\n",
       "    .dataframe tbody tr th:only-of-type {\n",
       "        vertical-align: middle;\n",
       "    }\n",
       "\n",
       "    .dataframe tbody tr th {\n",
       "        vertical-align: top;\n",
       "    }\n",
       "\n",
       "    .dataframe thead th {\n",
       "        text-align: right;\n",
       "    }\n",
       "</style>\n",
       "<table border=\"1\" class=\"dataframe\">\n",
       "  <thead>\n",
       "    <tr style=\"text-align: right;\">\n",
       "      <th></th>\n",
       "      <th>age</th>\n",
       "      <th>bmi</th>\n",
       "      <th>children</th>\n",
       "      <th>charges</th>\n",
       "      <th>sex_female</th>\n",
       "      <th>sex_male</th>\n",
       "      <th>smoker_no</th>\n",
       "      <th>smoker_yes</th>\n",
       "      <th>region_northeast</th>\n",
       "      <th>region_northwest</th>\n",
       "      <th>region_southeast</th>\n",
       "      <th>region_southwest</th>\n",
       "    </tr>\n",
       "  </thead>\n",
       "  <tbody>\n",
       "    <tr>\n",
       "      <th>0</th>\n",
       "      <td>19</td>\n",
       "      <td>27.900</td>\n",
       "      <td>0</td>\n",
       "      <td>16884.92400</td>\n",
       "      <td>1</td>\n",
       "      <td>0</td>\n",
       "      <td>0</td>\n",
       "      <td>1</td>\n",
       "      <td>0</td>\n",
       "      <td>0</td>\n",
       "      <td>0</td>\n",
       "      <td>1</td>\n",
       "    </tr>\n",
       "    <tr>\n",
       "      <th>1</th>\n",
       "      <td>18</td>\n",
       "      <td>33.770</td>\n",
       "      <td>1</td>\n",
       "      <td>1725.55230</td>\n",
       "      <td>0</td>\n",
       "      <td>1</td>\n",
       "      <td>1</td>\n",
       "      <td>0</td>\n",
       "      <td>0</td>\n",
       "      <td>0</td>\n",
       "      <td>1</td>\n",
       "      <td>0</td>\n",
       "    </tr>\n",
       "    <tr>\n",
       "      <th>2</th>\n",
       "      <td>28</td>\n",
       "      <td>33.000</td>\n",
       "      <td>3</td>\n",
       "      <td>4449.46200</td>\n",
       "      <td>0</td>\n",
       "      <td>1</td>\n",
       "      <td>1</td>\n",
       "      <td>0</td>\n",
       "      <td>0</td>\n",
       "      <td>0</td>\n",
       "      <td>1</td>\n",
       "      <td>0</td>\n",
       "    </tr>\n",
       "    <tr>\n",
       "      <th>3</th>\n",
       "      <td>33</td>\n",
       "      <td>22.705</td>\n",
       "      <td>0</td>\n",
       "      <td>21984.47061</td>\n",
       "      <td>0</td>\n",
       "      <td>1</td>\n",
       "      <td>1</td>\n",
       "      <td>0</td>\n",
       "      <td>0</td>\n",
       "      <td>1</td>\n",
       "      <td>0</td>\n",
       "      <td>0</td>\n",
       "    </tr>\n",
       "    <tr>\n",
       "      <th>4</th>\n",
       "      <td>32</td>\n",
       "      <td>28.880</td>\n",
       "      <td>0</td>\n",
       "      <td>3866.85520</td>\n",
       "      <td>0</td>\n",
       "      <td>1</td>\n",
       "      <td>1</td>\n",
       "      <td>0</td>\n",
       "      <td>0</td>\n",
       "      <td>1</td>\n",
       "      <td>0</td>\n",
       "      <td>0</td>\n",
       "    </tr>\n",
       "  </tbody>\n",
       "</table>\n",
       "</div>"
      ],
      "text/plain": [
       "   age     bmi  children      charges  sex_female  sex_male  smoker_no  \\\n",
       "0   19  27.900         0  16884.92400           1         0          0   \n",
       "1   18  33.770         1   1725.55230           0         1          1   \n",
       "2   28  33.000         3   4449.46200           0         1          1   \n",
       "3   33  22.705         0  21984.47061           0         1          1   \n",
       "4   32  28.880         0   3866.85520           0         1          1   \n",
       "\n",
       "   smoker_yes  region_northeast  region_northwest  region_southeast  \\\n",
       "0           1                 0                 0                 0   \n",
       "1           0                 0                 0                 1   \n",
       "2           0                 0                 0                 1   \n",
       "3           0                 0                 1                 0   \n",
       "4           0                 0                 1                 0   \n",
       "\n",
       "   region_southwest  \n",
       "0                 1  \n",
       "1                 0  \n",
       "2                 0  \n",
       "3                 0  \n",
       "4                 0  "
      ]
     },
     "execution_count": 241,
     "metadata": {},
     "output_type": "execute_result"
    }
   ],
   "source": [
    "#convert sex, smoker and region categorical string values into numeric\n",
    "cat_col = health_df.select_dtypes(include = 'object').columns\n",
    "health_df = pd.get_dummies(health_df , cat_col)\n",
    "health_df.head()"
   ]
  },
  {
   "cell_type": "code",
   "execution_count": 242,
   "id": "f256be0b",
   "metadata": {},
   "outputs": [
    {
     "data": {
      "text/plain": [
       "age                   int64\n",
       "bmi                 float64\n",
       "children              int64\n",
       "charges             float64\n",
       "sex_female            uint8\n",
       "sex_male              uint8\n",
       "smoker_no             uint8\n",
       "smoker_yes            uint8\n",
       "region_northeast      uint8\n",
       "region_northwest      uint8\n",
       "region_southeast      uint8\n",
       "region_southwest      uint8\n",
       "dtype: object"
      ]
     },
     "execution_count": 242,
     "metadata": {},
     "output_type": "execute_result"
    }
   ],
   "source": [
    "#check to ensure categorical columns were converted\n",
    "health_df.dtypes"
   ]
  },
  {
   "cell_type": "markdown",
   "id": "37d84855",
   "metadata": {},
   "source": [
    "The graphical analysis above showed some outliers in the BMI column. I will explore these outliers and determine whether to remove them"
   ]
  },
  {
   "cell_type": "code",
   "execution_count": 243,
   "id": "d430ddf6",
   "metadata": {},
   "outputs": [
    {
     "data": {
      "text/html": [
       "<div>\n",
       "<style scoped>\n",
       "    .dataframe tbody tr th:only-of-type {\n",
       "        vertical-align: middle;\n",
       "    }\n",
       "\n",
       "    .dataframe tbody tr th {\n",
       "        vertical-align: top;\n",
       "    }\n",
       "\n",
       "    .dataframe thead th {\n",
       "        text-align: right;\n",
       "    }\n",
       "</style>\n",
       "<table border=\"1\" class=\"dataframe\">\n",
       "  <thead>\n",
       "    <tr style=\"text-align: right;\">\n",
       "      <th></th>\n",
       "      <th>age</th>\n",
       "      <th>bmi</th>\n",
       "      <th>children</th>\n",
       "      <th>charges</th>\n",
       "      <th>sex_female</th>\n",
       "      <th>sex_male</th>\n",
       "      <th>smoker_no</th>\n",
       "      <th>smoker_yes</th>\n",
       "      <th>region_northeast</th>\n",
       "      <th>region_northwest</th>\n",
       "      <th>region_southeast</th>\n",
       "      <th>region_southwest</th>\n",
       "    </tr>\n",
       "  </thead>\n",
       "  <tbody>\n",
       "    <tr>\n",
       "      <th>847</th>\n",
       "      <td>23</td>\n",
       "      <td>50.38</td>\n",
       "      <td>1</td>\n",
       "      <td>2438.0552</td>\n",
       "      <td>0</td>\n",
       "      <td>1</td>\n",
       "      <td>1</td>\n",
       "      <td>0</td>\n",
       "      <td>0</td>\n",
       "      <td>0</td>\n",
       "      <td>1</td>\n",
       "      <td>0</td>\n",
       "    </tr>\n",
       "    <tr>\n",
       "      <th>1047</th>\n",
       "      <td>22</td>\n",
       "      <td>52.58</td>\n",
       "      <td>1</td>\n",
       "      <td>44501.3982</td>\n",
       "      <td>0</td>\n",
       "      <td>1</td>\n",
       "      <td>0</td>\n",
       "      <td>1</td>\n",
       "      <td>0</td>\n",
       "      <td>0</td>\n",
       "      <td>1</td>\n",
       "      <td>0</td>\n",
       "    </tr>\n",
       "    <tr>\n",
       "      <th>1317</th>\n",
       "      <td>18</td>\n",
       "      <td>53.13</td>\n",
       "      <td>0</td>\n",
       "      <td>1163.4627</td>\n",
       "      <td>0</td>\n",
       "      <td>1</td>\n",
       "      <td>1</td>\n",
       "      <td>0</td>\n",
       "      <td>0</td>\n",
       "      <td>0</td>\n",
       "      <td>1</td>\n",
       "      <td>0</td>\n",
       "    </tr>\n",
       "  </tbody>\n",
       "</table>\n",
       "</div>"
      ],
      "text/plain": [
       "      age    bmi  children     charges  sex_female  sex_male  smoker_no  \\\n",
       "847    23  50.38         1   2438.0552           0         1          1   \n",
       "1047   22  52.58         1  44501.3982           0         1          0   \n",
       "1317   18  53.13         0   1163.4627           0         1          1   \n",
       "\n",
       "      smoker_yes  region_northeast  region_northwest  region_southeast  \\\n",
       "847            0                 0                 0                 1   \n",
       "1047           1                 0                 0                 1   \n",
       "1317           0                 0                 0                 1   \n",
       "\n",
       "      region_southwest  \n",
       "847                  0  \n",
       "1047                 0  \n",
       "1317                 0  "
      ]
     },
     "execution_count": 243,
     "metadata": {},
     "output_type": "execute_result"
    }
   ],
   "source": [
    "#view all entries with bmi > 50\n",
    "health_df[health_df['bmi'] > 50]"
   ]
  },
  {
   "cell_type": "code",
   "execution_count": 244,
   "id": "d32b4e60",
   "metadata": {},
   "outputs": [
    {
     "name": "stderr",
     "output_type": "stream",
     "text": [
      "C:\\Users\\logan\\anaconda3\\lib\\site-packages\\seaborn\\_decorators.py:36: FutureWarning: Pass the following variable as a keyword arg: x. From version 0.12, the only valid positional argument will be `data`, and passing other arguments without an explicit keyword will result in an error or misinterpretation.\n",
      "  warnings.warn(\n"
     ]
    },
    {
     "data": {
      "text/plain": [
       "<AxesSubplot:xlabel='bmi'>"
      ]
     },
     "execution_count": 244,
     "metadata": {},
     "output_type": "execute_result"
    },
    {
     "data": {
      "image/png": "[encoded data removed]",
      "text/plain": [
       "<Figure size 432x288 with 1 Axes>"
      ]
     },
     "metadata": {
      "needs_background": "light"
     },
     "output_type": "display_data"
    }
   ],
   "source": [
    "#boxplot to visualize outliers in BMI\n",
    "sns.boxplot(health_df['bmi'])"
   ]
  },
  {
   "cell_type": "code",
   "execution_count": 245,
   "id": "dd7262f6",
   "metadata": {},
   "outputs": [
    {
     "data": {
      "text/plain": [
       "(1337, 12)"
      ]
     },
     "execution_count": 245,
     "metadata": {},
     "output_type": "execute_result"
    }
   ],
   "source": [
    "#view DF shape for comparison after filtering\n",
    "health_df.shape"
   ]
  },
  {
   "cell_type": "code",
   "execution_count": 246,
   "id": "603f4149",
   "metadata": {},
   "outputs": [],
   "source": [
    "#create new dataframe filtering out outliers\n",
    "health_df = health_df[health_df['bmi'] < 50]"
   ]
  },
  {
   "cell_type": "code",
   "execution_count": 247,
   "id": "20576554",
   "metadata": {},
   "outputs": [
    {
     "data": {
      "text/plain": [
       "(1334, 12)"
      ]
     },
     "execution_count": 247,
     "metadata": {},
     "output_type": "execute_result"
    }
   ],
   "source": [
    "#confirm rows were removed\n",
    "health_df.shape"
   ]
  },
  {
   "cell_type": "markdown",
   "id": "675ff2df",
   "metadata": {},
   "source": [
    "Feature Engineering is a important step in a linear model and one possible way to find new features to use is to use bivariate combinations to increase your model's performance. "
   ]
  },
  {
   "cell_type": "code",
   "execution_count": 248,
   "id": "a628e438",
   "metadata": {},
   "outputs": [],
   "source": [
    "#import needed libraries for bivarate combinations and split data using train_test_split\n",
    "from itertools import combinations\n",
    "from sklearn.linear_model import LinearRegression\n",
    "from sklearn.model_selection import train_test_split\n",
    "\n",
    "X = health_df.drop(['charges'], axis=1)\n",
    "y = health_df['charges']\n",
    "X_train, X_test, y_train, y_test = train_test_split(X, y , test_size=0.2 , random_state=True)"
   ]
  },
  {
   "cell_type": "code",
   "execution_count": 249,
   "id": "2edb35f6",
   "metadata": {},
   "outputs": [
    {
     "data": {
      "text/plain": [
       "[('age', 'bmi'),\n",
       " ('age', 'children'),\n",
       " ('age', 'sex_female'),\n",
       " ('age', 'sex_male'),\n",
       " ('age', 'smoker_no'),\n",
       " ('age', 'smoker_yes'),\n",
       " ('age', 'region_northeast'),\n",
       " ('age', 'region_northwest'),\n",
       " ('age', 'region_southeast'),\n",
       " ('age', 'region_southwest'),\n",
       " ('bmi', 'children'),\n",
       " ('bmi', 'sex_female'),\n",
       " ('bmi', 'sex_male'),\n",
       " ('bmi', 'smoker_no'),\n",
       " ('bmi', 'smoker_yes'),\n",
       " ('bmi', 'region_northeast'),\n",
       " ('bmi', 'region_northwest'),\n",
       " ('bmi', 'region_southeast'),\n",
       " ('bmi', 'region_southwest'),\n",
       " ('children', 'sex_female'),\n",
       " ('children', 'sex_male'),\n",
       " ('children', 'smoker_no'),\n",
       " ('children', 'smoker_yes'),\n",
       " ('children', 'region_northeast'),\n",
       " ('children', 'region_northwest'),\n",
       " ('children', 'region_southeast'),\n",
       " ('children', 'region_southwest'),\n",
       " ('sex_female', 'sex_male'),\n",
       " ('sex_female', 'smoker_no'),\n",
       " ('sex_female', 'smoker_yes'),\n",
       " ('sex_female', 'region_northeast'),\n",
       " ('sex_female', 'region_northwest'),\n",
       " ('sex_female', 'region_southeast'),\n",
       " ('sex_female', 'region_southwest'),\n",
       " ('sex_male', 'smoker_no'),\n",
       " ('sex_male', 'smoker_yes'),\n",
       " ('sex_male', 'region_northeast'),\n",
       " ('sex_male', 'region_northwest'),\n",
       " ('sex_male', 'region_southeast'),\n",
       " ('sex_male', 'region_southwest'),\n",
       " ('smoker_no', 'smoker_yes'),\n",
       " ('smoker_no', 'region_northeast'),\n",
       " ('smoker_no', 'region_northwest'),\n",
       " ('smoker_no', 'region_southeast'),\n",
       " ('smoker_no', 'region_southwest'),\n",
       " ('smoker_yes', 'region_northeast'),\n",
       " ('smoker_yes', 'region_northwest'),\n",
       " ('smoker_yes', 'region_southeast'),\n",
       " ('smoker_yes', 'region_southwest'),\n",
       " ('region_northeast', 'region_northwest'),\n",
       " ('region_northeast', 'region_southeast'),\n",
       " ('region_northeast', 'region_southwest'),\n",
       " ('region_northwest', 'region_southeast'),\n",
       " ('region_northwest', 'region_southwest'),\n",
       " ('region_southeast', 'region_southwest')]"
      ]
     },
     "execution_count": 249,
     "metadata": {},
     "output_type": "execute_result"
    }
   ],
   "source": [
    "#find all possible interactions between columns\n",
    "column_list = X_train.columns\n",
    "interactions = list(combinations(column_list, 2))\n",
    "interactions"
   ]
  },
  {
   "cell_type": "code",
   "execution_count": 250,
   "id": "9f440923",
   "metadata": {
    "scrolled": true
   },
   "outputs": [
    {
     "name": "stdout",
     "output_type": "stream",
     "text": [
      "('bmi', 'smoker_yes')\n",
      "('smoker_yes', 'region_northwest')\n",
      "('smoker_no', 'region_northwest')\n",
      "('smoker_yes', 'region_southeast')\n",
      "('smoker_yes', 'region_northeast')\n"
     ]
    }
   ],
   "source": [
    "#find top 5 interactions between variables.\n",
    "interaction_dict = {}\n",
    "for interaction in interactions:\n",
    "    X_train_int = X_train.copy()\n",
    "    X_train_int['int'] = X_train_int[interaction[0]] * X_train_int[interaction[1]]\n",
    "    lr3 = LinearRegression()\n",
    "    lr3.fit(X_train_int, y_train)\n",
    "    interaction_dict[lr3.score(X_train_int, y_train)] = interaction\n",
    "    \n",
    "top_5 = sorted(interaction_dict.keys(), reverse = True)[:5]\n",
    "for interaction in top_5:\n",
    "    print(interaction_dict[interaction])"
   ]
  },
  {
   "cell_type": "code",
   "execution_count": 251,
   "id": "a643806f",
   "metadata": {},
   "outputs": [
    {
     "data": {
      "text/plain": [
       "0.7525902842072163"
      ]
     },
     "execution_count": 251,
     "metadata": {},
     "output_type": "execute_result"
    }
   ],
   "source": [
    "#create model to check R2 before new features are added\n",
    "LR = LinearRegression()\n",
    "LR.fit(X_train, y_train)\n",
    "y_hat_train = LR.predict(X_train)\n",
    "r2_score(y_train, y_hat_train)"
   ]
  },
  {
   "cell_type": "code",
   "execution_count": 252,
   "id": "0ea27353",
   "metadata": {},
   "outputs": [],
   "source": [
    "#create 2 new features based off top two interactions and two things commonly known to increase medical costs\n",
    "X_train_int['age_smoker_yes'] = X_train['age'] * X_train['smoker_yes']\n",
    "X_train_int['bmi_smoker_yes'] = X_train['bmi'] * X_train['smoker_yes']"
   ]
  },
  {
   "cell_type": "code",
   "execution_count": 253,
   "id": "d0047aed",
   "metadata": {
    "scrolled": true
   },
   "outputs": [
    {
     "data": {
      "text/plain": [
       "0.8426315841692361"
      ]
     },
     "execution_count": 253,
     "metadata": {},
     "output_type": "execute_result"
    }
   ],
   "source": [
    "#create model to check R2 after new features were added to ensure they are useful\n",
    "LR2 = LinearRegression()\n",
    "LR2.fit(X_train_int, y_train)\n",
    "LR2.score(X_train_int, y_train)"
   ]
  },
  {
   "cell_type": "code",
   "execution_count": 254,
   "id": "dde09a08",
   "metadata": {},
   "outputs": [
    {
     "data": {
      "text/html": [
       "<div>\n",
       "<style scoped>\n",
       "    .dataframe tbody tr th:only-of-type {\n",
       "        vertical-align: middle;\n",
       "    }\n",
       "\n",
       "    .dataframe tbody tr th {\n",
       "        vertical-align: top;\n",
       "    }\n",
       "\n",
       "    .dataframe thead th {\n",
       "        text-align: right;\n",
       "    }\n",
       "</style>\n",
       "<table border=\"1\" class=\"dataframe\">\n",
       "  <thead>\n",
       "    <tr style=\"text-align: right;\">\n",
       "      <th></th>\n",
       "      <th>age</th>\n",
       "      <th>bmi</th>\n",
       "      <th>children</th>\n",
       "      <th>charges</th>\n",
       "      <th>sex_female</th>\n",
       "      <th>sex_male</th>\n",
       "      <th>smoker_no</th>\n",
       "      <th>smoker_yes</th>\n",
       "      <th>region_northeast</th>\n",
       "      <th>region_northwest</th>\n",
       "      <th>region_southeast</th>\n",
       "      <th>region_southwest</th>\n",
       "      <th>age_smoker_yes</th>\n",
       "      <th>bmi_smoker_yes</th>\n",
       "    </tr>\n",
       "  </thead>\n",
       "  <tbody>\n",
       "    <tr>\n",
       "      <th>0</th>\n",
       "      <td>19</td>\n",
       "      <td>27.900</td>\n",
       "      <td>0</td>\n",
       "      <td>16884.92400</td>\n",
       "      <td>1</td>\n",
       "      <td>0</td>\n",
       "      <td>0</td>\n",
       "      <td>1</td>\n",
       "      <td>0</td>\n",
       "      <td>0</td>\n",
       "      <td>0</td>\n",
       "      <td>1</td>\n",
       "      <td>19</td>\n",
       "      <td>27.9</td>\n",
       "    </tr>\n",
       "    <tr>\n",
       "      <th>1</th>\n",
       "      <td>18</td>\n",
       "      <td>33.770</td>\n",
       "      <td>1</td>\n",
       "      <td>1725.55230</td>\n",
       "      <td>0</td>\n",
       "      <td>1</td>\n",
       "      <td>1</td>\n",
       "      <td>0</td>\n",
       "      <td>0</td>\n",
       "      <td>0</td>\n",
       "      <td>1</td>\n",
       "      <td>0</td>\n",
       "      <td>0</td>\n",
       "      <td>0.0</td>\n",
       "    </tr>\n",
       "    <tr>\n",
       "      <th>2</th>\n",
       "      <td>28</td>\n",
       "      <td>33.000</td>\n",
       "      <td>3</td>\n",
       "      <td>4449.46200</td>\n",
       "      <td>0</td>\n",
       "      <td>1</td>\n",
       "      <td>1</td>\n",
       "      <td>0</td>\n",
       "      <td>0</td>\n",
       "      <td>0</td>\n",
       "      <td>1</td>\n",
       "      <td>0</td>\n",
       "      <td>0</td>\n",
       "      <td>0.0</td>\n",
       "    </tr>\n",
       "    <tr>\n",
       "      <th>3</th>\n",
       "      <td>33</td>\n",
       "      <td>22.705</td>\n",
       "      <td>0</td>\n",
       "      <td>21984.47061</td>\n",
       "      <td>0</td>\n",
       "      <td>1</td>\n",
       "      <td>1</td>\n",
       "      <td>0</td>\n",
       "      <td>0</td>\n",
       "      <td>1</td>\n",
       "      <td>0</td>\n",
       "      <td>0</td>\n",
       "      <td>0</td>\n",
       "      <td>0.0</td>\n",
       "    </tr>\n",
       "    <tr>\n",
       "      <th>4</th>\n",
       "      <td>32</td>\n",
       "      <td>28.880</td>\n",
       "      <td>0</td>\n",
       "      <td>3866.85520</td>\n",
       "      <td>0</td>\n",
       "      <td>1</td>\n",
       "      <td>1</td>\n",
       "      <td>0</td>\n",
       "      <td>0</td>\n",
       "      <td>1</td>\n",
       "      <td>0</td>\n",
       "      <td>0</td>\n",
       "      <td>0</td>\n",
       "      <td>0.0</td>\n",
       "    </tr>\n",
       "  </tbody>\n",
       "</table>\n",
       "</div>"
      ],
      "text/plain": [
       "   age     bmi  children      charges  sex_female  sex_male  smoker_no  \\\n",
       "0   19  27.900         0  16884.92400           1         0          0   \n",
       "1   18  33.770         1   1725.55230           0         1          1   \n",
       "2   28  33.000         3   4449.46200           0         1          1   \n",
       "3   33  22.705         0  21984.47061           0         1          1   \n",
       "4   32  28.880         0   3866.85520           0         1          1   \n",
       "\n",
       "   smoker_yes  region_northeast  region_northwest  region_southeast  \\\n",
       "0           1                 0                 0                 0   \n",
       "1           0                 0                 0                 1   \n",
       "2           0                 0                 0                 1   \n",
       "3           0                 0                 1                 0   \n",
       "4           0                 0                 1                 0   \n",
       "\n",
       "   region_southwest  age_smoker_yes  bmi_smoker_yes  \n",
       "0                 1              19            27.9  \n",
       "1                 0               0             0.0  \n",
       "2                 0               0             0.0  \n",
       "3                 0               0             0.0  \n",
       "4                 0               0             0.0  "
      ]
     },
     "execution_count": 254,
     "metadata": {},
     "output_type": "execute_result"
    }
   ],
   "source": [
    "#add new features to dataframe\n",
    "health_df['age_smoker_yes'] = health_df['age'] * health_df['smoker_yes']\n",
    "health_df['bmi_smoker_yes'] = health_df['bmi'] * health_df['smoker_yes']\n",
    "health_df.head()"
   ]
  },
  {
   "cell_type": "code",
   "execution_count": 255,
   "id": "aecc323c",
   "metadata": {},
   "outputs": [],
   "source": [
    "from sklearn.ensemble import RandomForestRegressor\n",
    "from sklearn.tree import DecisionTreeRegressor"
   ]
  },
  {
   "cell_type": "code",
   "execution_count": 256,
   "id": "aa024551",
   "metadata": {},
   "outputs": [
    {
     "data": {
      "text/html": [
       "<div>\n",
       "<style scoped>\n",
       "    .dataframe tbody tr th:only-of-type {\n",
       "        vertical-align: middle;\n",
       "    }\n",
       "\n",
       "    .dataframe tbody tr th {\n",
       "        vertical-align: top;\n",
       "    }\n",
       "\n",
       "    .dataframe thead th {\n",
       "        text-align: right;\n",
       "    }\n",
       "</style>\n",
       "<table border=\"1\" class=\"dataframe\">\n",
       "  <thead>\n",
       "    <tr style=\"text-align: right;\">\n",
       "      <th></th>\n",
       "      <th>age</th>\n",
       "      <th>bmi</th>\n",
       "      <th>children</th>\n",
       "      <th>charges</th>\n",
       "      <th>sex_female</th>\n",
       "      <th>sex_male</th>\n",
       "      <th>smoker_no</th>\n",
       "      <th>smoker_yes</th>\n",
       "      <th>region_northeast</th>\n",
       "      <th>region_northwest</th>\n",
       "      <th>region_southeast</th>\n",
       "      <th>region_southwest</th>\n",
       "      <th>age_smoker_yes</th>\n",
       "      <th>bmi_smoker_yes</th>\n",
       "    </tr>\n",
       "  </thead>\n",
       "  <tbody>\n",
       "    <tr>\n",
       "      <th>0</th>\n",
       "      <td>19</td>\n",
       "      <td>27.900</td>\n",
       "      <td>0</td>\n",
       "      <td>16884.92400</td>\n",
       "      <td>1</td>\n",
       "      <td>0</td>\n",
       "      <td>0</td>\n",
       "      <td>1</td>\n",
       "      <td>0</td>\n",
       "      <td>0</td>\n",
       "      <td>0</td>\n",
       "      <td>1</td>\n",
       "      <td>19</td>\n",
       "      <td>27.9</td>\n",
       "    </tr>\n",
       "    <tr>\n",
       "      <th>1</th>\n",
       "      <td>18</td>\n",
       "      <td>33.770</td>\n",
       "      <td>1</td>\n",
       "      <td>1725.55230</td>\n",
       "      <td>0</td>\n",
       "      <td>1</td>\n",
       "      <td>1</td>\n",
       "      <td>0</td>\n",
       "      <td>0</td>\n",
       "      <td>0</td>\n",
       "      <td>1</td>\n",
       "      <td>0</td>\n",
       "      <td>0</td>\n",
       "      <td>0.0</td>\n",
       "    </tr>\n",
       "    <tr>\n",
       "      <th>2</th>\n",
       "      <td>28</td>\n",
       "      <td>33.000</td>\n",
       "      <td>3</td>\n",
       "      <td>4449.46200</td>\n",
       "      <td>0</td>\n",
       "      <td>1</td>\n",
       "      <td>1</td>\n",
       "      <td>0</td>\n",
       "      <td>0</td>\n",
       "      <td>0</td>\n",
       "      <td>1</td>\n",
       "      <td>0</td>\n",
       "      <td>0</td>\n",
       "      <td>0.0</td>\n",
       "    </tr>\n",
       "    <tr>\n",
       "      <th>3</th>\n",
       "      <td>33</td>\n",
       "      <td>22.705</td>\n",
       "      <td>0</td>\n",
       "      <td>21984.47061</td>\n",
       "      <td>0</td>\n",
       "      <td>1</td>\n",
       "      <td>1</td>\n",
       "      <td>0</td>\n",
       "      <td>0</td>\n",
       "      <td>1</td>\n",
       "      <td>0</td>\n",
       "      <td>0</td>\n",
       "      <td>0</td>\n",
       "      <td>0.0</td>\n",
       "    </tr>\n",
       "    <tr>\n",
       "      <th>4</th>\n",
       "      <td>32</td>\n",
       "      <td>28.880</td>\n",
       "      <td>0</td>\n",
       "      <td>3866.85520</td>\n",
       "      <td>0</td>\n",
       "      <td>1</td>\n",
       "      <td>1</td>\n",
       "      <td>0</td>\n",
       "      <td>0</td>\n",
       "      <td>1</td>\n",
       "      <td>0</td>\n",
       "      <td>0</td>\n",
       "      <td>0</td>\n",
       "      <td>0.0</td>\n",
       "    </tr>\n",
       "  </tbody>\n",
       "</table>\n",
       "</div>"
      ],
      "text/plain": [
       "   age     bmi  children      charges  sex_female  sex_male  smoker_no  \\\n",
       "0   19  27.900         0  16884.92400           1         0          0   \n",
       "1   18  33.770         1   1725.55230           0         1          1   \n",
       "2   28  33.000         3   4449.46200           0         1          1   \n",
       "3   33  22.705         0  21984.47061           0         1          1   \n",
       "4   32  28.880         0   3866.85520           0         1          1   \n",
       "\n",
       "   smoker_yes  region_northeast  region_northwest  region_southeast  \\\n",
       "0           1                 0                 0                 0   \n",
       "1           0                 0                 0                 1   \n",
       "2           0                 0                 0                 1   \n",
       "3           0                 0                 1                 0   \n",
       "4           0                 0                 1                 0   \n",
       "\n",
       "   region_southwest  age_smoker_yes  bmi_smoker_yes  \n",
       "0                 1              19            27.9  \n",
       "1                 0               0             0.0  \n",
       "2                 0               0             0.0  \n",
       "3                 0               0             0.0  \n",
       "4                 0               0             0.0  "
      ]
     },
     "execution_count": 256,
     "metadata": {},
     "output_type": "execute_result"
    }
   ],
   "source": [
    "#look at dataframe to ensure data is cleaned and prepared\n",
    "health_df.head()"
   ]
  },
  {
   "cell_type": "code",
   "execution_count": 257,
   "id": "6d883f69",
   "metadata": {},
   "outputs": [],
   "source": [
    "#set up new train-test-split using 80/20 split\n",
    "X_two = health_df.drop(['charges'], axis=1)\n",
    "y_two = health_df['charges']\n",
    "\n",
    "X_train_two, X_test_two, y_train_two, y_test_two = train_test_split(X_two, y_two, test_size = 0.2, random_state = True)"
   ]
  },
  {
   "cell_type": "code",
   "execution_count": 258,
   "id": "d119122a",
   "metadata": {},
   "outputs": [],
   "source": [
    "#setup Linear Regression model, fit the model and make prediction on test set\n",
    "LR_final = LinearRegression()\n",
    "LR_final.fit(X_train_two, y_train_two)\n",
    "y_predict_final = LR_final.predict(X_test_two)"
   ]
  },
  {
   "cell_type": "code",
   "execution_count": 259,
   "id": "b63e829c",
   "metadata": {},
   "outputs": [
    {
     "name": "stdout",
     "output_type": "stream",
     "text": [
      "R2: 0.8303255923405547\n",
      "MAE: 2780.7117072984993\n",
      "MSE: 21720015.964034297\n",
      "RMSE: 4660.473791797815\n"
     ]
    }
   ],
   "source": [
    "#print out evaluation metrics for LR model which had bivariate combinatios\n",
    "print('R2:', r2_score(y_test_two, y_predict_final))\n",
    "print('MAE:', mean_absolute_error(y_test_two, y_predict_final))\n",
    "print('MSE:', mean_squared_error(y_test_two, y_predict_final))\n",
    "print('RMSE:', np.sqrt(mean_squared_error(y_test_two, y_predict_final)))"
   ]
  },
  {
   "cell_type": "code",
   "execution_count": 260,
   "id": "0c76d44b",
   "metadata": {},
   "outputs": [
    {
     "data": {
      "text/plain": [
       "<matplotlib.collections.PathCollection at 0x1c90e2d0a30>"
      ]
     },
     "execution_count": 260,
     "metadata": {},
     "output_type": "execute_result"
    },
    {
     "data": {
      "image/png": "[encoded data removed]",
      "text/plain": [
       "<Figure size 432x288 with 1 Axes>"
      ]
     },
     "metadata": {
      "needs_background": "light"
     },
     "output_type": "display_data"
    }
   ],
   "source": [
    "#visualize predictions for LR model with feature engineering\n",
    "plt.scatter(y_test_two, y_predict_final)"
   ]
  },
  {
   "cell_type": "code",
   "execution_count": 261,
   "id": "91c4fc75",
   "metadata": {},
   "outputs": [],
   "source": [
    "#create LinearRegression model using original training and tests sets before feature engineering for comparison\n",
    "LR_compare = LinearRegression()\n",
    "LR_compare.fit(X_train, y_train)\n",
    "y_pred_compare = LR_compare.predict(X_test)"
   ]
  },
  {
   "cell_type": "code",
   "execution_count": 262,
   "id": "f8a48be6",
   "metadata": {},
   "outputs": [
    {
     "name": "stdout",
     "output_type": "stream",
     "text": [
      "R2: 0.7366890788745424\n",
      "MAE: 4043.462638126369\n",
      "MSE: 33706423.31534402\n",
      "RMSE: 5805.7233240436135\n"
     ]
    }
   ],
   "source": [
    "#print out evaluation metrics for LR model before feature engineering\n",
    "print('R2:', r2_score(y_test, y_pred_compare))\n",
    "print('MAE:', mean_absolute_error(y_test, y_pred_compare))\n",
    "print('MSE:', mean_squared_error(y_test, y_pred_compare))\n",
    "print('RMSE:', np.sqrt(mean_squared_error(y_test, y_pred_compare)))"
   ]
  },
  {
   "cell_type": "code",
   "execution_count": 263,
   "id": "6e0e1c95",
   "metadata": {},
   "outputs": [],
   "source": [
    "#setup Random Forest Regressor, fit the model, and make predictions\n",
    "RFR = RandomForestRegressor(random_state = 0, n_jobs = -1)\n",
    "RFR.fit(X_train_two, y_train_two)\n",
    "y_predict_RFR = RFR.predict(X_test_two)"
   ]
  },
  {
   "cell_type": "code",
   "execution_count": 264,
   "id": "42a19f78",
   "metadata": {},
   "outputs": [
    {
     "name": "stdout",
     "output_type": "stream",
     "text": [
      "R2: 0.8187229850081481\n",
      "MAE: 2724.6582244089254\n",
      "MSE: 23205265.38945207\n",
      "RMSE: 4817.1843839998555\n"
     ]
    }
   ],
   "source": [
    "#calculate evaluation metrics for Random Forest\n",
    "print('R2:', r2_score(y_test_two, y_predict_RFR))\n",
    "print('MAE:', mean_absolute_error(y_test_two, y_predict_RFR))\n",
    "print('MSE:', mean_squared_error(y_test_two, y_predict_RFR))\n",
    "print('RMSE:', np.sqrt(mean_squared_error(y_test_two, y_predict_RFR)))"
   ]
  },
  {
   "cell_type": "code",
   "execution_count": 265,
   "id": "8fb26792",
   "metadata": {},
   "outputs": [
    {
     "data": {
      "text/plain": [
       "<matplotlib.collections.PathCollection at 0x1c9106891c0>"
      ]
     },
     "execution_count": 265,
     "metadata": {},
     "output_type": "execute_result"
    },
    {
     "data": {
      "image/png": "[encoded data removed]",
      "text/plain": [
       "<Figure size 432x288 with 1 Axes>"
      ]
     },
     "metadata": {
      "needs_background": "light"
     },
     "output_type": "display_data"
    }
   ],
   "source": [
    "#visualize the predictions for Random Forest Model\n",
    "plt.scatter(y_test_two, y_predict_RFR)"
   ]
  },
  {
   "cell_type": "code",
   "execution_count": 266,
   "id": "8618644f",
   "metadata": {},
   "outputs": [],
   "source": [
    "#create DecisionTreeRegressor model, fit the model and predict\n",
    "DTR = DecisionTreeRegressor(random_state = 0)\n",
    "DTR.fit(X_train_two, y_train_two)\n",
    "y_predict_DTR = DTR.predict(X_test_two)"
   ]
  },
  {
   "cell_type": "code",
   "execution_count": 267,
   "id": "5bf12a0c",
   "metadata": {},
   "outputs": [
    {
     "name": "stdout",
     "output_type": "stream",
     "text": [
      "R2: 0.7263780522428659\n",
      "MAE: 2683.264291947565\n",
      "MSE: 35026337.533020854\n",
      "RMSE: 5918.305292313066\n"
     ]
    }
   ],
   "source": [
    "#calculate evaluation metrics for Decision Tree\n",
    "print('R2:', r2_score(y_test_two, y_predict_DTR))\n",
    "print('MAE:', mean_absolute_error(y_test_two, y_predict_DTR))\n",
    "print('MSE:', mean_squared_error(y_test_two, y_predict_DTR))\n",
    "print('RMSE:', np.sqrt(mean_squared_error(y_test_two, y_predict_DTR)))"
   ]
  },
  {
   "cell_type": "code",
   "execution_count": 268,
   "id": "adbe51fa",
   "metadata": {},
   "outputs": [
    {
     "data": {
      "text/plain": [
       "<matplotlib.collections.PathCollection at 0x1c90e3b4190>"
      ]
     },
     "execution_count": 268,
     "metadata": {},
     "output_type": "execute_result"
    },
    {
     "data": {
      "image/png": "[encoded data removed]",
      "text/plain": [
       "<Figure size 432x288 with 1 Axes>"
      ]
     },
     "metadata": {
      "needs_background": "light"
     },
     "output_type": "display_data"
    }
   ],
   "source": [
    "#visualize the predictions for Decision Tree Model\n",
    "plt.scatter(y_test_two, y_predict_DTR)"
   ]
  },
  {
   "cell_type": "markdown",
   "id": "cec0ff9b",
   "metadata": {},
   "source": [
    "# Conclusion"
   ]
  },
  {
   "cell_type": "markdown",
   "id": "db4e631b",
   "metadata": {},
   "source": [
    "To ensure we get the model with the best performance, three different regression models were tested including Linear Regression, Decision Tree Regression, and Random Forest Regression. Each model was trained on the training sets and predictions were made on the test sets. \n",
    "\n",
    "As the data appeared to be linear based off the scatter plots used in our EDA a Multiple Linear Regression model seemed an obvious choice for this data. Linear Regression can also be a good baseline to compare to other models as it is simple to use and easy to implement.\n",
    "\n",
    "A decision tree regressor was used as they consider all possible decisions. They are also a good choice for both continuous and categorical data.\n",
    "\n",
    "A Random Forest Regressor was tested as it uses the ensemble method bagging to improve the model performance, it works well with no hyperparameter tuning and is better than linear models in most cases.\n",
    "\n",
    "Based on our metrics we can see that the Linear Regression model has the best fit after feature engineering. The RMSE score is the smallest at 4660 indicating it has the lowest average distance between predicted values and the actual values. The MSE value is also the lowest. The Linear Regression model also has the highest R2 score at 0.83 indicating 83% of the variance in the respones variable can be explained the predictors. \n",
    "\n",
    "\n",
    "If we look at the comparison for the linear Regression model before feature engineering we would see that the Random Forest Regressor would have been superior as it is very close to the linear regression model after feature engineering with it's RMSE, R2 score, MSE and MAE."
   ]
  },
  {
   "cell_type": "code",
   "execution_count": null,
   "id": "32ed71d8",
   "metadata": {},
   "outputs": [],
   "source": []
  }
 ],
 "metadata": {
  "kernelspec": {
   "display_name": "Python 3 (ipykernel)",
   "language": "python",
   "name": "python3"
  },
  "language_info": {
   "codemirror_mode": {
    "name": "ipython",
    "version": 3
   },
   "file_extension": ".py",
   "mimetype": "text/x-python",
   "name": "python",
   "nbconvert_exporter": "python",
   "pygments_lexer": "ipython3",
   "version": "3.9.7"
  }
 },
 "nbformat": 4,
 "nbformat_minor": 5
}
