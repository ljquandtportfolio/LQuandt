{
 "cells": [
  {
   "cell_type": "markdown",
   "id": "95a6fe7a",
   "metadata": {},
   "source": [
    "# Sentiment Analysis Model"
   ]
  },
  {
   "cell_type": "markdown",
   "id": "7a6205f0",
   "metadata": {},
   "source": [
    "Logan Quandt"
   ]
  },
  {
   "cell_type": "code",
   "execution_count": 123,
   "id": "a01589a0",
   "metadata": {},
   "outputs": [],
   "source": [
    "import pandas as pd\n",
    "import numpy as np\n",
    "from sklearn.feature_extraction.text import TfidfVectorizer\n",
    "from sklearn.model_selection import train_test_split\n",
    "from sklearn.metrics import plot_confusion_matrix\n",
    "from textblob import TextBlob\n",
    "from nltk.corpus import stopwords\n",
    "import re\n",
    "import nltk\n",
    "from nltk.tokenize import word_tokenize\n",
    "from nltk.stem.porter import PorterStemmer"
   ]
  },
  {
   "cell_type": "code",
   "execution_count": 124,
   "id": "e18cb89a",
   "metadata": {},
   "outputs": [
    {
     "data": {
      "text/html": [
       "<div>\n",
       "<style scoped>\n",
       "    .dataframe tbody tr th:only-of-type {\n",
       "        vertical-align: middle;\n",
       "    }\n",
       "\n",
       "    .dataframe tbody tr th {\n",
       "        vertical-align: top;\n",
       "    }\n",
       "\n",
       "    .dataframe thead th {\n",
       "        text-align: right;\n",
       "    }\n",
       "</style>\n",
       "<table border=\"1\" class=\"dataframe\">\n",
       "  <thead>\n",
       "    <tr style=\"text-align: right;\">\n",
       "      <th></th>\n",
       "      <th>id</th>\n",
       "      <th>sentiment</th>\n",
       "      <th>review</th>\n",
       "    </tr>\n",
       "  </thead>\n",
       "  <tbody>\n",
       "    <tr>\n",
       "      <th>0</th>\n",
       "      <td>5814_8</td>\n",
       "      <td>1</td>\n",
       "      <td>With all this stuff going down at the moment w...</td>\n",
       "    </tr>\n",
       "    <tr>\n",
       "      <th>1</th>\n",
       "      <td>2381_9</td>\n",
       "      <td>1</td>\n",
       "      <td>\\The Classic War of the Worlds\\\" by Timothy Hi...</td>\n",
       "    </tr>\n",
       "    <tr>\n",
       "      <th>2</th>\n",
       "      <td>7759_3</td>\n",
       "      <td>0</td>\n",
       "      <td>The film starts with a manager (Nicholas Bell)...</td>\n",
       "    </tr>\n",
       "    <tr>\n",
       "      <th>3</th>\n",
       "      <td>3630_4</td>\n",
       "      <td>0</td>\n",
       "      <td>It must be assumed that those who praised this...</td>\n",
       "    </tr>\n",
       "    <tr>\n",
       "      <th>4</th>\n",
       "      <td>9495_8</td>\n",
       "      <td>1</td>\n",
       "      <td>Superbly trashy and wondrously unpretentious 8...</td>\n",
       "    </tr>\n",
       "  </tbody>\n",
       "</table>\n",
       "</div>"
      ],
      "text/plain": [
       "       id  sentiment                                             review\n",
       "0  5814_8          1  With all this stuff going down at the moment w...\n",
       "1  2381_9          1  \\The Classic War of the Worlds\\\" by Timothy Hi...\n",
       "2  7759_3          0  The film starts with a manager (Nicholas Bell)...\n",
       "3  3630_4          0  It must be assumed that those who praised this...\n",
       "4  9495_8          1  Superbly trashy and wondrously unpretentious 8..."
      ]
     },
     "execution_count": 124,
     "metadata": {},
     "output_type": "execute_result"
    }
   ],
   "source": [
    "#load df, ensure it loaded correctly\n",
    "df = pd.read_csv('labeledTrainData.tsv', sep='\\t')\n",
    "df.head(5)"
   ]
  },
  {
   "cell_type": "code",
   "execution_count": 125,
   "id": "c26deff3",
   "metadata": {},
   "outputs": [],
   "source": [
    "#create functions to get subjectivity and polarity\n",
    "def getSubjectivity(text):\n",
    "    return TextBlob(text).sentiment.subjectivity\n",
    "\n",
    "def getPolarity(text):\n",
    "    return TextBlob(text).sentiment.polarity"
   ]
  },
  {
   "cell_type": "code",
   "execution_count": 126,
   "id": "5eee049d",
   "metadata": {},
   "outputs": [],
   "source": [
    "#calculate and create columns for subjectivity and polarity\n",
    "df['subjectivity'] = df['review'].apply(getSubjectivity)\n",
    "df['polarity'] = df['review'].apply(getPolarity)"
   ]
  },
  {
   "cell_type": "code",
   "execution_count": 127,
   "id": "0f1e1ea2",
   "metadata": {},
   "outputs": [
    {
     "data": {
      "text/html": [
       "<div>\n",
       "<style scoped>\n",
       "    .dataframe tbody tr th:only-of-type {\n",
       "        vertical-align: middle;\n",
       "    }\n",
       "\n",
       "    .dataframe tbody tr th {\n",
       "        vertical-align: top;\n",
       "    }\n",
       "\n",
       "    .dataframe thead th {\n",
       "        text-align: right;\n",
       "    }\n",
       "</style>\n",
       "<table border=\"1\" class=\"dataframe\">\n",
       "  <thead>\n",
       "    <tr style=\"text-align: right;\">\n",
       "      <th></th>\n",
       "      <th>id</th>\n",
       "      <th>sentiment</th>\n",
       "      <th>review</th>\n",
       "      <th>subjectivity</th>\n",
       "      <th>polarity</th>\n",
       "    </tr>\n",
       "  </thead>\n",
       "  <tbody>\n",
       "    <tr>\n",
       "      <th>0</th>\n",
       "      <td>5814_8</td>\n",
       "      <td>1</td>\n",
       "      <td>With all this stuff going down at the moment w...</td>\n",
       "      <td>0.606746</td>\n",
       "      <td>0.001277</td>\n",
       "    </tr>\n",
       "    <tr>\n",
       "      <th>1</th>\n",
       "      <td>2381_9</td>\n",
       "      <td>1</td>\n",
       "      <td>\\The Classic War of the Worlds\\\" by Timothy Hi...</td>\n",
       "      <td>0.531111</td>\n",
       "      <td>0.256349</td>\n",
       "    </tr>\n",
       "    <tr>\n",
       "      <th>2</th>\n",
       "      <td>7759_3</td>\n",
       "      <td>0</td>\n",
       "      <td>The film starts with a manager (Nicholas Bell)...</td>\n",
       "      <td>0.562933</td>\n",
       "      <td>-0.053941</td>\n",
       "    </tr>\n",
       "    <tr>\n",
       "      <th>3</th>\n",
       "      <td>3630_4</td>\n",
       "      <td>0</td>\n",
       "      <td>It must be assumed that those who praised this...</td>\n",
       "      <td>0.492901</td>\n",
       "      <td>0.134753</td>\n",
       "    </tr>\n",
       "    <tr>\n",
       "      <th>4</th>\n",
       "      <td>9495_8</td>\n",
       "      <td>1</td>\n",
       "      <td>Superbly trashy and wondrously unpretentious 8...</td>\n",
       "      <td>0.459818</td>\n",
       "      <td>-0.024842</td>\n",
       "    </tr>\n",
       "  </tbody>\n",
       "</table>\n",
       "</div>"
      ],
      "text/plain": [
       "       id  sentiment                                             review  \\\n",
       "0  5814_8          1  With all this stuff going down at the moment w...   \n",
       "1  2381_9          1  \\The Classic War of the Worlds\\\" by Timothy Hi...   \n",
       "2  7759_3          0  The film starts with a manager (Nicholas Bell)...   \n",
       "3  3630_4          0  It must be assumed that those who praised this...   \n",
       "4  9495_8          1  Superbly trashy and wondrously unpretentious 8...   \n",
       "\n",
       "   subjectivity  polarity  \n",
       "0      0.606746  0.001277  \n",
       "1      0.531111  0.256349  \n",
       "2      0.562933 -0.053941  \n",
       "3      0.492901  0.134753  \n",
       "4      0.459818 -0.024842  "
      ]
     },
     "execution_count": 127,
     "metadata": {},
     "output_type": "execute_result"
    }
   ],
   "source": [
    "df.head(5)"
   ]
  },
  {
   "cell_type": "code",
   "execution_count": 128,
   "id": "dae907fc",
   "metadata": {},
   "outputs": [
    {
     "data": {
      "text/html": [
       "<div>\n",
       "<style scoped>\n",
       "    .dataframe tbody tr th:only-of-type {\n",
       "        vertical-align: middle;\n",
       "    }\n",
       "\n",
       "    .dataframe tbody tr th {\n",
       "        vertical-align: top;\n",
       "    }\n",
       "\n",
       "    .dataframe thead th {\n",
       "        text-align: right;\n",
       "    }\n",
       "</style>\n",
       "<table border=\"1\" class=\"dataframe\">\n",
       "  <thead>\n",
       "    <tr style=\"text-align: right;\">\n",
       "      <th></th>\n",
       "      <th>id</th>\n",
       "      <th>sentiment</th>\n",
       "      <th>review</th>\n",
       "      <th>subjectivity</th>\n",
       "      <th>polarity</th>\n",
       "      <th>TextBlob_Sentiment</th>\n",
       "    </tr>\n",
       "  </thead>\n",
       "  <tbody>\n",
       "    <tr>\n",
       "      <th>0</th>\n",
       "      <td>5814_8</td>\n",
       "      <td>1</td>\n",
       "      <td>With all this stuff going down at the moment w...</td>\n",
       "      <td>0.606746</td>\n",
       "      <td>0.001277</td>\n",
       "      <td>1</td>\n",
       "    </tr>\n",
       "    <tr>\n",
       "      <th>1</th>\n",
       "      <td>2381_9</td>\n",
       "      <td>1</td>\n",
       "      <td>\\The Classic War of the Worlds\\\" by Timothy Hi...</td>\n",
       "      <td>0.531111</td>\n",
       "      <td>0.256349</td>\n",
       "      <td>1</td>\n",
       "    </tr>\n",
       "    <tr>\n",
       "      <th>2</th>\n",
       "      <td>7759_3</td>\n",
       "      <td>0</td>\n",
       "      <td>The film starts with a manager (Nicholas Bell)...</td>\n",
       "      <td>0.562933</td>\n",
       "      <td>-0.053941</td>\n",
       "      <td>0</td>\n",
       "    </tr>\n",
       "    <tr>\n",
       "      <th>3</th>\n",
       "      <td>3630_4</td>\n",
       "      <td>0</td>\n",
       "      <td>It must be assumed that those who praised this...</td>\n",
       "      <td>0.492901</td>\n",
       "      <td>0.134753</td>\n",
       "      <td>1</td>\n",
       "    </tr>\n",
       "    <tr>\n",
       "      <th>4</th>\n",
       "      <td>9495_8</td>\n",
       "      <td>1</td>\n",
       "      <td>Superbly trashy and wondrously unpretentious 8...</td>\n",
       "      <td>0.459818</td>\n",
       "      <td>-0.024842</td>\n",
       "      <td>0</td>\n",
       "    </tr>\n",
       "  </tbody>\n",
       "</table>\n",
       "</div>"
      ],
      "text/plain": [
       "       id  sentiment                                             review  \\\n",
       "0  5814_8          1  With all this stuff going down at the moment w...   \n",
       "1  2381_9          1  \\The Classic War of the Worlds\\\" by Timothy Hi...   \n",
       "2  7759_3          0  The film starts with a manager (Nicholas Bell)...   \n",
       "3  3630_4          0  It must be assumed that those who praised this...   \n",
       "4  9495_8          1  Superbly trashy and wondrously unpretentious 8...   \n",
       "\n",
       "   subjectivity  polarity  TextBlob_Sentiment  \n",
       "0      0.606746  0.001277                   1  \n",
       "1      0.531111  0.256349                   1  \n",
       "2      0.562933 -0.053941                   0  \n",
       "3      0.492901  0.134753                   1  \n",
       "4      0.459818 -0.024842                   0  "
      ]
     },
     "execution_count": 128,
     "metadata": {},
     "output_type": "execute_result"
    }
   ],
   "source": [
    "#create sentiment column based off polarity\n",
    "df['TextBlob_Sentiment'] = df['polarity'].apply(lambda x: 1 if x > 0 else 0)\n",
    "df.head(5)"
   ]
  },
  {
   "cell_type": "code",
   "execution_count": 129,
   "id": "6e725b6b",
   "metadata": {},
   "outputs": [],
   "source": [
    "#create function to clean text\n",
    "def clean_text(text):\n",
    "    text = text.lower() #converts text to lowercase\n",
    "    text = re.sub(r'[^\\w\\s]+','', text) #remove special characters\n",
    "    \n",
    "    return text"
   ]
  },
  {
   "cell_type": "code",
   "execution_count": 130,
   "id": "1cec836d",
   "metadata": {},
   "outputs": [
    {
     "data": {
      "text/html": [
       "<div>\n",
       "<style scoped>\n",
       "    .dataframe tbody tr th:only-of-type {\n",
       "        vertical-align: middle;\n",
       "    }\n",
       "\n",
       "    .dataframe tbody tr th {\n",
       "        vertical-align: top;\n",
       "    }\n",
       "\n",
       "    .dataframe thead th {\n",
       "        text-align: right;\n",
       "    }\n",
       "</style>\n",
       "<table border=\"1\" class=\"dataframe\">\n",
       "  <thead>\n",
       "    <tr style=\"text-align: right;\">\n",
       "      <th></th>\n",
       "      <th>id</th>\n",
       "      <th>sentiment</th>\n",
       "      <th>review</th>\n",
       "      <th>subjectivity</th>\n",
       "      <th>polarity</th>\n",
       "      <th>TextBlob_Sentiment</th>\n",
       "      <th>review_cleaned</th>\n",
       "    </tr>\n",
       "  </thead>\n",
       "  <tbody>\n",
       "    <tr>\n",
       "      <th>0</th>\n",
       "      <td>5814_8</td>\n",
       "      <td>1</td>\n",
       "      <td>With all this stuff going down at the moment w...</td>\n",
       "      <td>0.606746</td>\n",
       "      <td>0.001277</td>\n",
       "      <td>1</td>\n",
       "      <td>with all this stuff going down at the moment w...</td>\n",
       "    </tr>\n",
       "    <tr>\n",
       "      <th>1</th>\n",
       "      <td>2381_9</td>\n",
       "      <td>1</td>\n",
       "      <td>\\The Classic War of the Worlds\\\" by Timothy Hi...</td>\n",
       "      <td>0.531111</td>\n",
       "      <td>0.256349</td>\n",
       "      <td>1</td>\n",
       "      <td>the classic war of the worlds by timothy hines...</td>\n",
       "    </tr>\n",
       "    <tr>\n",
       "      <th>2</th>\n",
       "      <td>7759_3</td>\n",
       "      <td>0</td>\n",
       "      <td>The film starts with a manager (Nicholas Bell)...</td>\n",
       "      <td>0.562933</td>\n",
       "      <td>-0.053941</td>\n",
       "      <td>0</td>\n",
       "      <td>the film starts with a manager nicholas bell g...</td>\n",
       "    </tr>\n",
       "    <tr>\n",
       "      <th>3</th>\n",
       "      <td>3630_4</td>\n",
       "      <td>0</td>\n",
       "      <td>It must be assumed that those who praised this...</td>\n",
       "      <td>0.492901</td>\n",
       "      <td>0.134753</td>\n",
       "      <td>1</td>\n",
       "      <td>it must be assumed that those who praised this...</td>\n",
       "    </tr>\n",
       "    <tr>\n",
       "      <th>4</th>\n",
       "      <td>9495_8</td>\n",
       "      <td>1</td>\n",
       "      <td>Superbly trashy and wondrously unpretentious 8...</td>\n",
       "      <td>0.459818</td>\n",
       "      <td>-0.024842</td>\n",
       "      <td>0</td>\n",
       "      <td>superbly trashy and wondrously unpretentious 8...</td>\n",
       "    </tr>\n",
       "  </tbody>\n",
       "</table>\n",
       "</div>"
      ],
      "text/plain": [
       "       id  sentiment                                             review  \\\n",
       "0  5814_8          1  With all this stuff going down at the moment w...   \n",
       "1  2381_9          1  \\The Classic War of the Worlds\\\" by Timothy Hi...   \n",
       "2  7759_3          0  The film starts with a manager (Nicholas Bell)...   \n",
       "3  3630_4          0  It must be assumed that those who praised this...   \n",
       "4  9495_8          1  Superbly trashy and wondrously unpretentious 8...   \n",
       "\n",
       "   subjectivity  polarity  TextBlob_Sentiment  \\\n",
       "0      0.606746  0.001277                   1   \n",
       "1      0.531111  0.256349                   1   \n",
       "2      0.562933 -0.053941                   0   \n",
       "3      0.492901  0.134753                   1   \n",
       "4      0.459818 -0.024842                   0   \n",
       "\n",
       "                                      review_cleaned  \n",
       "0  with all this stuff going down at the moment w...  \n",
       "1  the classic war of the worlds by timothy hines...  \n",
       "2  the film starts with a manager nicholas bell g...  \n",
       "3  it must be assumed that those who praised this...  \n",
       "4  superbly trashy and wondrously unpretentious 8...  "
      ]
     },
     "execution_count": 130,
     "metadata": {},
     "output_type": "execute_result"
    }
   ],
   "source": [
    "#apply clean text function to review column\n",
    "df['review_cleaned'] = df['review'].apply(clean_text)\n",
    "df.head(5)"
   ]
  },
  {
   "cell_type": "code",
   "execution_count": 131,
   "id": "bbe01d15",
   "metadata": {},
   "outputs": [
    {
     "data": {
      "text/html": [
       "<div>\n",
       "<style scoped>\n",
       "    .dataframe tbody tr th:only-of-type {\n",
       "        vertical-align: middle;\n",
       "    }\n",
       "\n",
       "    .dataframe tbody tr th {\n",
       "        vertical-align: top;\n",
       "    }\n",
       "\n",
       "    .dataframe thead th {\n",
       "        text-align: right;\n",
       "    }\n",
       "</style>\n",
       "<table border=\"1\" class=\"dataframe\">\n",
       "  <thead>\n",
       "    <tr style=\"text-align: right;\">\n",
       "      <th></th>\n",
       "      <th>id</th>\n",
       "      <th>sentiment</th>\n",
       "      <th>review</th>\n",
       "      <th>subjectivity</th>\n",
       "      <th>polarity</th>\n",
       "      <th>TextBlob_Sentiment</th>\n",
       "      <th>review_cleaned</th>\n",
       "    </tr>\n",
       "  </thead>\n",
       "  <tbody>\n",
       "    <tr>\n",
       "      <th>0</th>\n",
       "      <td>5814_8</td>\n",
       "      <td>1</td>\n",
       "      <td>With all this stuff going down at the moment w...</td>\n",
       "      <td>0.606746</td>\n",
       "      <td>0.001277</td>\n",
       "      <td>1</td>\n",
       "      <td>stuff going moment mj ive started listening mu...</td>\n",
       "    </tr>\n",
       "    <tr>\n",
       "      <th>1</th>\n",
       "      <td>2381_9</td>\n",
       "      <td>1</td>\n",
       "      <td>\\The Classic War of the Worlds\\\" by Timothy Hi...</td>\n",
       "      <td>0.531111</td>\n",
       "      <td>0.256349</td>\n",
       "      <td>1</td>\n",
       "      <td>classic war worlds timothy hines entertaining ...</td>\n",
       "    </tr>\n",
       "    <tr>\n",
       "      <th>2</th>\n",
       "      <td>7759_3</td>\n",
       "      <td>0</td>\n",
       "      <td>The film starts with a manager (Nicholas Bell)...</td>\n",
       "      <td>0.562933</td>\n",
       "      <td>-0.053941</td>\n",
       "      <td>0</td>\n",
       "      <td>film starts manager nicholas bell giving welco...</td>\n",
       "    </tr>\n",
       "    <tr>\n",
       "      <th>3</th>\n",
       "      <td>3630_4</td>\n",
       "      <td>0</td>\n",
       "      <td>It must be assumed that those who praised this...</td>\n",
       "      <td>0.492901</td>\n",
       "      <td>0.134753</td>\n",
       "      <td>1</td>\n",
       "      <td>must assumed praised film greatest filmed oper...</td>\n",
       "    </tr>\n",
       "    <tr>\n",
       "      <th>4</th>\n",
       "      <td>9495_8</td>\n",
       "      <td>1</td>\n",
       "      <td>Superbly trashy and wondrously unpretentious 8...</td>\n",
       "      <td>0.459818</td>\n",
       "      <td>-0.024842</td>\n",
       "      <td>0</td>\n",
       "      <td>superbly trashy wondrously unpretentious 80s e...</td>\n",
       "    </tr>\n",
       "  </tbody>\n",
       "</table>\n",
       "</div>"
      ],
      "text/plain": [
       "       id  sentiment                                             review  \\\n",
       "0  5814_8          1  With all this stuff going down at the moment w...   \n",
       "1  2381_9          1  \\The Classic War of the Worlds\\\" by Timothy Hi...   \n",
       "2  7759_3          0  The film starts with a manager (Nicholas Bell)...   \n",
       "3  3630_4          0  It must be assumed that those who praised this...   \n",
       "4  9495_8          1  Superbly trashy and wondrously unpretentious 8...   \n",
       "\n",
       "   subjectivity  polarity  TextBlob_Sentiment  \\\n",
       "0      0.606746  0.001277                   1   \n",
       "1      0.531111  0.256349                   1   \n",
       "2      0.562933 -0.053941                   0   \n",
       "3      0.492901  0.134753                   1   \n",
       "4      0.459818 -0.024842                   0   \n",
       "\n",
       "                                      review_cleaned  \n",
       "0  stuff going moment mj ive started listening mu...  \n",
       "1  classic war worlds timothy hines entertaining ...  \n",
       "2  film starts manager nicholas bell giving welco...  \n",
       "3  must assumed praised film greatest filmed oper...  \n",
       "4  superbly trashy wondrously unpretentious 80s e...  "
      ]
     },
     "execution_count": 131,
     "metadata": {},
     "output_type": "execute_result"
    }
   ],
   "source": [
    "#remove stopwords\n",
    "stopwords = stopwords.words('english')\n",
    "df['review_cleaned'] = df['review_cleaned'].apply(lambda x:' '.join([word for word in x.split() if word not in (stopwords)]))\n",
    "df.head(5)"
   ]
  },
  {
   "cell_type": "code",
   "execution_count": 132,
   "id": "c12eb172",
   "metadata": {},
   "outputs": [],
   "source": [
    "#create PorterStemmer variable\n",
    "Porter = PorterStemmer()"
   ]
  },
  {
   "cell_type": "code",
   "execution_count": 133,
   "id": "c0752e74",
   "metadata": {},
   "outputs": [
    {
     "data": {
      "text/html": [
       "<div>\n",
       "<style scoped>\n",
       "    .dataframe tbody tr th:only-of-type {\n",
       "        vertical-align: middle;\n",
       "    }\n",
       "\n",
       "    .dataframe tbody tr th {\n",
       "        vertical-align: top;\n",
       "    }\n",
       "\n",
       "    .dataframe thead th {\n",
       "        text-align: right;\n",
       "    }\n",
       "</style>\n",
       "<table border=\"1\" class=\"dataframe\">\n",
       "  <thead>\n",
       "    <tr style=\"text-align: right;\">\n",
       "      <th></th>\n",
       "      <th>id</th>\n",
       "      <th>sentiment</th>\n",
       "      <th>review</th>\n",
       "      <th>subjectivity</th>\n",
       "      <th>polarity</th>\n",
       "      <th>TextBlob_Sentiment</th>\n",
       "      <th>review_cleaned</th>\n",
       "      <th>review_tokenized</th>\n",
       "      <th>review_stemmed</th>\n",
       "      <th>review_stem_sent</th>\n",
       "    </tr>\n",
       "  </thead>\n",
       "  <tbody>\n",
       "    <tr>\n",
       "      <th>0</th>\n",
       "      <td>5814_8</td>\n",
       "      <td>1</td>\n",
       "      <td>With all this stuff going down at the moment w...</td>\n",
       "      <td>0.606746</td>\n",
       "      <td>0.001277</td>\n",
       "      <td>1</td>\n",
       "      <td>stuff going moment mj ive started listening mu...</td>\n",
       "      <td>&lt;filter object at 0x000001C826571580&gt;</td>\n",
       "      <td>[stuff, go, moment, mj, ive, start, listen, mu...</td>\n",
       "      <td>stuff go moment mj ive start listen music watc...</td>\n",
       "    </tr>\n",
       "    <tr>\n",
       "      <th>1</th>\n",
       "      <td>2381_9</td>\n",
       "      <td>1</td>\n",
       "      <td>\\The Classic War of the Worlds\\\" by Timothy Hi...</td>\n",
       "      <td>0.531111</td>\n",
       "      <td>0.256349</td>\n",
       "      <td>1</td>\n",
       "      <td>classic war worlds timothy hines entertaining ...</td>\n",
       "      <td>&lt;filter object at 0x000001C83ACC8910&gt;</td>\n",
       "      <td>[classic, war, world, timothi, hine, entertain...</td>\n",
       "      <td>classic war world timothi hine entertain film ...</td>\n",
       "    </tr>\n",
       "    <tr>\n",
       "      <th>2</th>\n",
       "      <td>7759_3</td>\n",
       "      <td>0</td>\n",
       "      <td>The film starts with a manager (Nicholas Bell)...</td>\n",
       "      <td>0.562933</td>\n",
       "      <td>-0.053941</td>\n",
       "      <td>0</td>\n",
       "      <td>film starts manager nicholas bell giving welco...</td>\n",
       "      <td>&lt;filter object at 0x000001C83A580C40&gt;</td>\n",
       "      <td>[film, start, manag, nichola, bell, give, welc...</td>\n",
       "      <td>film start manag nichola bell give welcom inve...</td>\n",
       "    </tr>\n",
       "    <tr>\n",
       "      <th>3</th>\n",
       "      <td>3630_4</td>\n",
       "      <td>0</td>\n",
       "      <td>It must be assumed that those who praised this...</td>\n",
       "      <td>0.492901</td>\n",
       "      <td>0.134753</td>\n",
       "      <td>1</td>\n",
       "      <td>must assumed praised film greatest filmed oper...</td>\n",
       "      <td>&lt;filter object at 0x000001C8265E0430&gt;</td>\n",
       "      <td>[must, assum, prais, film, greatest, film, ope...</td>\n",
       "      <td>must assum prais film greatest film opera ever...</td>\n",
       "    </tr>\n",
       "    <tr>\n",
       "      <th>4</th>\n",
       "      <td>9495_8</td>\n",
       "      <td>1</td>\n",
       "      <td>Superbly trashy and wondrously unpretentious 8...</td>\n",
       "      <td>0.459818</td>\n",
       "      <td>-0.024842</td>\n",
       "      <td>0</td>\n",
       "      <td>superbly trashy wondrously unpretentious 80s e...</td>\n",
       "      <td>&lt;filter object at 0x000001C83AAAD1C0&gt;</td>\n",
       "      <td>[superbl, trashi, wondrous, unpretenti, 80, ex...</td>\n",
       "      <td>superbl trashi wondrous unpretenti 80 exploit ...</td>\n",
       "    </tr>\n",
       "  </tbody>\n",
       "</table>\n",
       "</div>"
      ],
      "text/plain": [
       "       id  sentiment                                             review  \\\n",
       "0  5814_8          1  With all this stuff going down at the moment w...   \n",
       "1  2381_9          1  \\The Classic War of the Worlds\\\" by Timothy Hi...   \n",
       "2  7759_3          0  The film starts with a manager (Nicholas Bell)...   \n",
       "3  3630_4          0  It must be assumed that those who praised this...   \n",
       "4  9495_8          1  Superbly trashy and wondrously unpretentious 8...   \n",
       "\n",
       "   subjectivity  polarity  TextBlob_Sentiment  \\\n",
       "0      0.606746  0.001277                   1   \n",
       "1      0.531111  0.256349                   1   \n",
       "2      0.562933 -0.053941                   0   \n",
       "3      0.492901  0.134753                   1   \n",
       "4      0.459818 -0.024842                   0   \n",
       "\n",
       "                                      review_cleaned  \\\n",
       "0  stuff going moment mj ive started listening mu...   \n",
       "1  classic war worlds timothy hines entertaining ...   \n",
       "2  film starts manager nicholas bell giving welco...   \n",
       "3  must assumed praised film greatest filmed oper...   \n",
       "4  superbly trashy wondrously unpretentious 80s e...   \n",
       "\n",
       "                        review_tokenized  \\\n",
       "0  <filter object at 0x000001C826571580>   \n",
       "1  <filter object at 0x000001C83ACC8910>   \n",
       "2  <filter object at 0x000001C83A580C40>   \n",
       "3  <filter object at 0x000001C8265E0430>   \n",
       "4  <filter object at 0x000001C83AAAD1C0>   \n",
       "\n",
       "                                      review_stemmed  \\\n",
       "0  [stuff, go, moment, mj, ive, start, listen, mu...   \n",
       "1  [classic, war, world, timothi, hine, entertain...   \n",
       "2  [film, start, manag, nichola, bell, give, welc...   \n",
       "3  [must, assum, prais, film, greatest, film, ope...   \n",
       "4  [superbl, trashi, wondrous, unpretenti, 80, ex...   \n",
       "\n",
       "                                    review_stem_sent  \n",
       "0  stuff go moment mj ive start listen music watc...  \n",
       "1  classic war world timothi hine entertain film ...  \n",
       "2  film start manag nichola bell give welcom inve...  \n",
       "3  must assum prais film greatest film opera ever...  \n",
       "4  superbl trashi wondrous unpretenti 80 exploit ...  "
      ]
     },
     "execution_count": 133,
     "metadata": {},
     "output_type": "execute_result"
    }
   ],
   "source": [
    "#tokenize column, apply PorterStemmer and then convert back to sentences\n",
    "df['review_tokenized'] = df['review_cleaned'].apply(lambda x: filter(None, x.split()))\n",
    "df['review_stemmed'] = df['review_tokenized'].apply(lambda x: [Porter.stem(y) for y in x])\n",
    "df['review_stem_sent'] = df['review_stemmed'].apply(lambda x:\" \".join(x))\n",
    "df.head(5)"
   ]
  },
  {
   "cell_type": "code",
   "execution_count": 134,
   "id": "e459edd5",
   "metadata": {},
   "outputs": [
    {
     "name": "stdout",
     "output_type": "stream",
     "text": [
      "(20000,)\n",
      "(5000,)\n",
      "(20000,)\n",
      "(5000,)\n"
     ]
    }
   ],
   "source": [
    "#split data into train and test sets\n",
    "x = df['review_stem_sent'] \n",
    "y = df['sentiment']\n",
    "x_train, x_test, y_train, y_test = train_test_split(x,y, test_size = 0.2)\n",
    "print(x_train.shape)\n",
    "print(x_test.shape)\n",
    "print(y_train.shape)\n",
    "print(y_test.shape)"
   ]
  },
  {
   "cell_type": "code",
   "execution_count": 135,
   "id": "2890c4ae",
   "metadata": {},
   "outputs": [
    {
     "data": {
      "text/plain": [
       "(20000, 80779)"
      ]
     },
     "execution_count": 135,
     "metadata": {},
     "output_type": "execute_result"
    }
   ],
   "source": [
    "#apply and fit tfidf vectorization to training set\n",
    "tfidfs = TfidfVectorizer()\n",
    "x_train_vector = tfidfs.fit_transform(x_train)\n",
    "x_train_vector.shape"
   ]
  },
  {
   "cell_type": "code",
   "execution_count": 136,
   "id": "46f45361",
   "metadata": {},
   "outputs": [
    {
     "data": {
      "text/plain": [
       "(5000, 80779)"
      ]
     },
     "execution_count": 136,
     "metadata": {},
     "output_type": "execute_result"
    }
   ],
   "source": [
    "#apply tf-idf to test set\n",
    "x_test_vector = tfidfs.transform(x_test)\n",
    "x_test_vector.shape"
   ]
  },
  {
   "cell_type": "code",
   "execution_count": 137,
   "id": "28d532b2",
   "metadata": {},
   "outputs": [],
   "source": [
    "#import and create logistic regression model\n",
    "from sklearn.linear_model import LogisticRegression\n",
    "LogReg_Model = LogisticRegression()"
   ]
  },
  {
   "cell_type": "code",
   "execution_count": 138,
   "id": "ad83e0ac",
   "metadata": {},
   "outputs": [
    {
     "data": {
      "text/plain": [
       "0.8852"
      ]
     },
     "execution_count": 138,
     "metadata": {},
     "output_type": "execute_result"
    }
   ],
   "source": [
    "#calculate model accuracy\n",
    "from sklearn.metrics import accuracy_score\n",
    "\n",
    "y_test_pred = LogReg_Model.fit(x_train_vector, y_train).predict(x_test_vector)\n",
    "accuracy_score(y_test,y_test_pred)"
   ]
  },
  {
   "cell_type": "markdown",
   "id": "e3544626",
   "metadata": {},
   "source": [
    "The model is 88.52% accurate"
   ]
  },
  {
   "cell_type": "code",
   "execution_count": 139,
   "id": "4b79d54f",
   "metadata": {},
   "outputs": [
    {
     "data": {
      "image/png": "[encoded data removed]",
      "text/plain": [
       "<Figure size 432x288 with 1 Axes>"
      ]
     },
     "metadata": {
      "needs_background": "light"
     },
     "output_type": "display_data"
    }
   ],
   "source": [
    "#create confusion matrix\n",
    "from sklearn.metrics import confusion_matrix\n",
    "import matplotlib.pyplot as plt\n",
    "import seaborn as sns\n",
    "\n",
    "conf_matrix = confusion_matrix(y_test, y_test_pred)\n",
    "\n",
    "df_two = pd.DataFrame(conf_matrix)\n",
    "\n",
    "sns.heatmap(df_two, annot = True, cbar=None, cmap='Blues')\n",
    "plt.title('Confusion Matrix'), plt.tight_layout()\n",
    "plt.ylabel('True Class'), plt.xlabel('Predicted Class')\n",
    "plt.show()"
   ]
  },
  {
   "cell_type": "code",
   "execution_count": 140,
   "id": "746ee343",
   "metadata": {},
   "outputs": [
    {
     "name": "stdout",
     "output_type": "stream",
     "text": [
      "Precision Score: 87.17257318952234\n",
      "Recall Score: 90.37539936102237\n",
      "F1 Score: 88.74509803921569\n"
     ]
    }
   ],
   "source": [
    "#calculate precision, recall and f1 scores\n",
    "from sklearn.metrics import precision_score, recall_score, f1_score\n",
    "\n",
    "precision = precision_score(y_test, y_test_pred)\n",
    "recall = recall_score(y_test, y_test_pred)\n",
    "f1 = f1_score(y_test,y_test_pred)\n",
    "\n",
    "print('Precision Score:', precision*100)\n",
    "print('Recall Score:', recall*100)\n",
    "print('F1 Score:', f1*100)"
   ]
  },
  {
   "cell_type": "code",
   "execution_count": 141,
   "id": "b12333da",
   "metadata": {},
   "outputs": [
    {
     "data": {
      "image/png": "[encoded data removed]",
      "text/plain": [
       "<Figure size 432x288 with 1 Axes>"
      ]
     },
     "metadata": {
      "needs_background": "light"
     },
     "output_type": "display_data"
    }
   ],
   "source": [
    "#create ROC curve\n",
    "from sklearn.metrics import roc_curve, roc_auc_score\n",
    "\n",
    "target_prob = LogReg_Model.predict_proba(x_test_vector)[:,1]\n",
    "false_positive_rate, true_positive_rate, threshold = roc_curve(y_test, target_prob)\n",
    "\n",
    "plt.title('Receiver Operating Characteristics')\n",
    "plt.plot(false_positive_rate, true_positive_rate)\n",
    "plt.plot([0,1], ls=\"--\")\n",
    "plt.ylabel('True Positive Rate')\n",
    "plt.xlabel('False Positive Rate')\n",
    "plt.show()"
   ]
  },
  {
   "cell_type": "code",
   "execution_count": 142,
   "id": "4776b6a7",
   "metadata": {},
   "outputs": [],
   "source": [
    "#import and create RandomForest model\n",
    "from sklearn.ensemble import RandomForestClassifier\n",
    "randomforest = RandomForestClassifier(random_state = 0, n_jobs = -1)\n",
    "random_forest_pred = randomforest.fit(x_train_vector, y_train).predict(x_test_vector)"
   ]
  },
  {
   "cell_type": "code",
   "execution_count": 143,
   "id": "9b8339c1",
   "metadata": {},
   "outputs": [
    {
     "data": {
      "text/plain": [
       "0.8428"
      ]
     },
     "execution_count": 143,
     "metadata": {},
     "output_type": "execute_result"
    }
   ],
   "source": [
    "#calculate model accuracy for random forest model\n",
    "accuracy_score(y_test, random_forest_pred)"
   ]
  },
  {
   "cell_type": "markdown",
   "id": "03599d7f",
   "metadata": {},
   "source": [
    "The model is 84.28% accurate"
   ]
  },
  {
   "cell_type": "code",
   "execution_count": 144,
   "id": "dc6efb1f",
   "metadata": {},
   "outputs": [
    {
     "data": {
      "image/png": "[encoded data removed]",
      "text/plain": [
       "<Figure size 432x288 with 1 Axes>"
      ]
     },
     "metadata": {
      "needs_background": "light"
     },
     "output_type": "display_data"
    }
   ],
   "source": [
    "#create confusion matrix for random forest model\n",
    "conf_matrix_rf = confusion_matrix(y_test, random_forest_pred)\n",
    "\n",
    "df_three = pd.DataFrame(conf_matrix_rf)\n",
    "\n",
    "sns.heatmap(df_three, annot = True, cbar=None, cmap='Blues')\n",
    "plt.title('Confusion Matrix'), plt.tight_layout()\n",
    "plt.ylabel('True Class'), plt.xlabel('Predicted Class')\n",
    "plt.show()"
   ]
  },
  {
   "cell_type": "code",
   "execution_count": 145,
   "id": "1f8f9e7e",
   "metadata": {},
   "outputs": [
    {
     "name": "stdout",
     "output_type": "stream",
     "text": [
      "Precision Score: 84.27773343974462\n",
      "Recall Score: 84.34504792332268\n",
      "F1 Score: 84.31137724550898\n"
     ]
    }
   ],
   "source": [
    "#calculate precision score, recall score and F1 score for random forest model\n",
    "precision_rf = precision_score(y_test, random_forest_pred)\n",
    "recall_rf = recall_score(y_test, random_forest_pred)\n",
    "f1_rf = f1_score(y_test,random_forest_pred)\n",
    "\n",
    "print('Precision Score:', precision_rf*100)\n",
    "print('Recall Score:', recall_rf*100)\n",
    "print('F1 Score:', f1_rf*100)"
   ]
  },
  {
   "cell_type": "code",
   "execution_count": 146,
   "id": "85372395",
   "metadata": {},
   "outputs": [
    {
     "data": {
      "image/png": "[encoded data removed]",
      "text/plain": [
       "<Figure size 432x288 with 1 Axes>"
      ]
     },
     "metadata": {
      "needs_background": "light"
     },
     "output_type": "display_data"
    }
   ],
   "source": [
    "#create ROC curve for Random forest model\n",
    "target_prob_rf = randomforest.predict_proba(x_test_vector)[:,1]\n",
    "false_positive_rate_rf, true_positive_rate_rf, threshold_rf = roc_curve(y_test, target_prob_rf)\n",
    "\n",
    "plt.title('Receiver Operating Characteristics')\n",
    "plt.plot(false_positive_rate_rf, true_positive_rate_rf)\n",
    "plt.plot([0,1], ls=\"--\")\n",
    "plt.ylabel('True Positive Rate')\n",
    "plt.xlabel('False Positive Rate')\n",
    "plt.show()"
   ]
  },
  {
   "cell_type": "code",
   "execution_count": null,
   "id": "d0e3ad40",
   "metadata": {},
   "outputs": [],
   "source": []
  }
 ],
 "metadata": {
  "kernelspec": {
   "display_name": "Python 3 (ipykernel)",
   "language": "python",
   "name": "python3"
  },
  "language_info": {
   "codemirror_mode": {
    "name": "ipython",
    "version": 3
   },
   "file_extension": ".py",
   "mimetype": "text/x-python",
   "name": "python",
   "nbconvert_exporter": "python",
   "pygments_lexer": "ipython3",
   "version": "3.9.7"
  }
 },
 "nbformat": 4,
 "nbformat_minor": 5
}
