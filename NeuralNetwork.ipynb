{
 "cells": [
  {
   "cell_type": "markdown",
   "id": "0364701d",
   "metadata": {},
   "source": [
    "# Neural Network"
   ]
  },
  {
   "cell_type": "code",
   "execution_count": 1,
   "id": "f8894eab",
   "metadata": {},
   "outputs": [],
   "source": [
    "import pandas as pd\n",
    "import numpy as np\n",
    "import matplotlib.pyplot as plt\n",
    "from keras.datasets import mnist\n",
    "from keras.models import Sequential\n",
    "from keras.layers import Dense, Dropout, Flatten\n",
    "from keras.layers.convolutional import Conv2D, MaxPooling2D\n",
    "from keras.utils import np_utils\n",
    "from keras import backend as K\n",
    "import cv2\n",
    "import tensorflow\n",
    "from sklearn.metrics import confusion_matrix, ConfusionMatrixDisplay"
   ]
  },
  {
   "cell_type": "code",
   "execution_count": 2,
   "id": "d55e65de",
   "metadata": {},
   "outputs": [],
   "source": [
    "#load data and target from MNIST data\n",
    "(data_train, target_train), (data_test, target_test) = mnist.load_data()"
   ]
  },
  {
   "cell_type": "code",
   "execution_count": 3,
   "id": "37db0570",
   "metadata": {},
   "outputs": [
    {
     "data": {
      "image/png": "[encoded data removed]",
      "text/plain": [
       "<Figure size 432x288 with 5 Axes>"
      ]
     },
     "metadata": {
      "needs_background": "light"
     },
     "output_type": "display_data"
    }
   ],
   "source": [
    "#display first five images in data set\n",
    "for i in range(5):\n",
    "    plt.subplot(330 + 1 + i) #define subplot\n",
    "    plt.imshow(data_train[i], cmap='gray') #plot data\n",
    "\n",
    "plt.show() "
   ]
  },
  {
   "cell_type": "code",
   "execution_count": 4,
   "id": "788b3191",
   "metadata": {},
   "outputs": [],
   "source": [
    "#create dataframe with first 5 labels\n",
    "df = pd.DataFrame(target_train[0:5]).set_axis(['label'], axis=1)"
   ]
  },
  {
   "cell_type": "code",
   "execution_count": 5,
   "id": "a69ccf76",
   "metadata": {},
   "outputs": [
    {
     "data": {
      "text/html": [
       "<div>\n",
       "<style scoped>\n",
       "    .dataframe tbody tr th:only-of-type {\n",
       "        vertical-align: middle;\n",
       "    }\n",
       "\n",
       "    .dataframe tbody tr th {\n",
       "        vertical-align: top;\n",
       "    }\n",
       "\n",
       "    .dataframe thead th {\n",
       "        text-align: right;\n",
       "    }\n",
       "</style>\n",
       "<table border=\"1\" class=\"dataframe\">\n",
       "  <thead>\n",
       "    <tr style=\"text-align: right;\">\n",
       "      <th></th>\n",
       "      <th>label</th>\n",
       "    </tr>\n",
       "  </thead>\n",
       "  <tbody>\n",
       "    <tr>\n",
       "      <th>0</th>\n",
       "      <td>5</td>\n",
       "    </tr>\n",
       "    <tr>\n",
       "      <th>1</th>\n",
       "      <td>0</td>\n",
       "    </tr>\n",
       "    <tr>\n",
       "      <th>2</th>\n",
       "      <td>4</td>\n",
       "    </tr>\n",
       "    <tr>\n",
       "      <th>3</th>\n",
       "      <td>1</td>\n",
       "    </tr>\n",
       "    <tr>\n",
       "      <th>4</th>\n",
       "      <td>9</td>\n",
       "    </tr>\n",
       "  </tbody>\n",
       "</table>\n",
       "</div>"
      ],
      "text/plain": [
       "   label\n",
       "0      5\n",
       "1      0\n",
       "2      4\n",
       "3      1\n",
       "4      9"
      ]
     },
     "execution_count": 5,
     "metadata": {},
     "output_type": "execute_result"
    }
   ],
   "source": [
    "#show df head to compare first 5 labels to images\n",
    "df.head(5)"
   ]
  },
  {
   "cell_type": "code",
   "execution_count": 6,
   "id": "765f834a",
   "metadata": {},
   "outputs": [],
   "source": [
    "#set color channel value to last \n",
    "K.set_image_data_format('channels_last')\n",
    "np.random.seed(0) #set seed\n",
    "\n",
    "#set image info\n",
    "channels = 1\n",
    "height = 28\n",
    "width = 28"
   ]
  },
  {
   "cell_type": "code",
   "execution_count": 7,
   "id": "17b07478",
   "metadata": {},
   "outputs": [],
   "source": [
    "#reshape training data images into features with single channel\n",
    "data_train = data_train.reshape(data_train.shape[0],height, width, channels)\n",
    "#reshape test data images into features with single channel\n",
    "data_test = data_test.reshape(data_test.shape[0], height, width, channels)"
   ]
  },
  {
   "cell_type": "code",
   "execution_count": 8,
   "id": "93df3d6d",
   "metadata": {},
   "outputs": [],
   "source": [
    "#Rescaling the pixel intensity to between 0 and 1\n",
    "features_train = data_train / 255\n",
    "features_test = data_test / 255"
   ]
  },
  {
   "cell_type": "code",
   "execution_count": 9,
   "id": "835e001f",
   "metadata": {},
   "outputs": [],
   "source": [
    "#one hot encode target\n",
    "target_train = np_utils.to_categorical(target_train)\n",
    "target_test = np_utils.to_categorical(target_test)\n",
    "number_of_classes = target_test.shape[1]"
   ]
  },
  {
   "cell_type": "code",
   "execution_count": 10,
   "id": "623a0713",
   "metadata": {},
   "outputs": [],
   "source": [
    "#start a neural network\n",
    "network = Sequential()"
   ]
  },
  {
   "cell_type": "code",
   "execution_count": 11,
   "id": "a3115637",
   "metadata": {},
   "outputs": [],
   "source": [
    "#add convoluntional layer\n",
    "network.add(Conv2D(filters = 64,\n",
    "                  kernel_size=(5,5),\n",
    "                  input_shape = (height,width, channels),\n",
    "                  activation = 'relu'))"
   ]
  },
  {
   "cell_type": "code",
   "execution_count": 12,
   "id": "2940e3b5",
   "metadata": {},
   "outputs": [],
   "source": [
    "#add MaxPooling layer\n",
    "network.add(MaxPooling2D(pool_size = (2,2)))\n",
    "#add Dropout layer\n",
    "network.add(Dropout(0.5))\n",
    "#Add layet to flatten input\n",
    "network.add(Flatten())\n",
    "#Add fully connected layer with 128 units w/ ReLu activation function\n",
    "network.add(Dense(128, activation ='relu'))\n",
    "#Add dropout layer\n",
    "network.add(Dropout(0.5))\n",
    "#Add fully connected layer with softmax activation function\n",
    "network.add(Dense(number_of_classes, activation = 'softmax'))"
   ]
  },
  {
   "cell_type": "code",
   "execution_count": 13,
   "id": "a6cc7e4c",
   "metadata": {},
   "outputs": [],
   "source": [
    "#compile neural network\n",
    "network.compile(loss = 'categorical_crossentropy',\n",
    "               optimizer = 'rmsprop',\n",
    "               metrics = ['accuracy'])"
   ]
  },
  {
   "cell_type": "code",
   "execution_count": 14,
   "id": "0ff2aa2b",
   "metadata": {},
   "outputs": [
    {
     "data": {
      "text/plain": [
       "<keras.callbacks.History at 0x25f7ae481c0>"
      ]
     },
     "execution_count": 14,
     "metadata": {},
     "output_type": "execute_result"
    }
   ],
   "source": [
    "#Train neural network\n",
    "network.fit(features_train, target_train,\n",
    "           epochs = 2,\n",
    "           verbose = 0,\n",
    "           batch_size = 1000,\n",
    "           validation_data = (features_test, target_test))"
   ]
  },
  {
   "cell_type": "code",
   "execution_count": 15,
   "id": "49c4d160",
   "metadata": {},
   "outputs": [
    {
     "name": "stdout",
     "output_type": "stream",
     "text": [
      "Test Loss: 0.08233124762773514\n",
      "Test Accuracy: 0.9753000140190125\n"
     ]
    }
   ],
   "source": [
    "#use evaluate method to report test loss and test accuracy\n",
    "test_loss, test_accuracy = network.evaluate(features_test, target_test, verbose=0)\n",
    "print(\"Test Loss:\", test_loss)\n",
    "print(\"Test Accuracy:\", test_accuracy)"
   ]
  },
  {
   "cell_type": "code",
   "execution_count": 16,
   "id": "bb203391",
   "metadata": {},
   "outputs": [
    {
     "name": "stdout",
     "output_type": "stream",
     "text": [
      "313/313 [==============================] - 1s 4ms/step\n"
     ]
    }
   ],
   "source": [
    "#use model to predict on test set\n",
    "predict = network.predict(data_test, batch_size = 32)\n",
    "#converting values for conf matrix\n",
    "y_predict = np.argmax(predict, axis=1)\n",
    "#converting values for conf matrix\n",
    "y_true = np.argmax(target_test, axis=1)"
   ]
  },
  {
   "cell_type": "code",
   "execution_count": 17,
   "id": "43cce67e",
   "metadata": {},
   "outputs": [
    {
     "data": {
      "image/png": "[encoded data removed]",
      "text/plain": [
       "<Figure size 432x288 with 2 Axes>"
      ]
     },
     "metadata": {
      "needs_background": "light"
     },
     "output_type": "display_data"
    }
   ],
   "source": [
    "import seaborn as sns\n",
    "\n",
    "#create and visualize the confusion matrix\n",
    "conf_matrix = confusion_matrix(y_true, y_predict)\n",
    "sns.heatmap(conf_matrix, annot=True, fmt='d')\n",
    "plt.ylabel('True Class'), plt.xlabel(\"Predicted Class\")\n",
    "plt.show()"
   ]
  },
  {
   "cell_type": "markdown",
   "id": "103b47a7",
   "metadata": {},
   "source": [
    "### Summarize your results."
   ]
  },
  {
   "cell_type": "markdown",
   "id": "259e8530",
   "metadata": {},
   "source": [
    "The model has an accuracy score of 97% on the test dataset which indicates this model is excellent at predicting the image data. \n",
    "\n",
    "The confusion matrix indicates that most of the values were True Positives for each label which aligns well with the 97% accuracy of the model."
   ]
  },
  {
   "cell_type": "code",
   "execution_count": null,
   "id": "7102911b",
   "metadata": {},
   "outputs": [],
   "source": []
  }
 ],
 "metadata": {
  "kernelspec": {
   "display_name": "Python 3 (ipykernel)",
   "language": "python",
   "name": "python3"
  },
  "language_info": {
   "codemirror_mode": {
    "name": "ipython",
    "version": 3
   },
   "file_extension": ".py",
   "mimetype": "text/x-python",
   "name": "python",
   "nbconvert_exporter": "python",
   "pygments_lexer": "ipython3",
   "version": "3.9.7"
  }
 },
 "nbformat": 4,
 "nbformat_minor": 5
}
